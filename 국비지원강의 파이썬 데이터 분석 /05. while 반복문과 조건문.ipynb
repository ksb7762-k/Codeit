{
 "cells": [
  {
   "cell_type": "markdown",
   "id": "059ddcef-e613-42af-8a48-4341b7462ad8",
   "metadata": {},
   "source": [
    "# while 반복문과 조건문"
   ]
  },
  {
   "cell_type": "markdown",
   "id": "63089962-901b-414b-9ee3-c6df59c1b532",
   "metadata": {},
   "source": [
    "# 01. while 반복문 개념 \n",
    "#### while 조건 부분(불린 값으로 계산되는 식): 명령 실행 조건\n",
    "####         수행 부분 : 반복 실행 명령"
   ]
  },
  {
   "cell_type": "markdown",
   "id": "7c57d96f-b72b-444a-b0a3-0e30103f75eb",
   "metadata": {},
   "source": [
    "#### 예시) While 다운로드 안 받은 이미지가 있다: \n",
    "#### 다음 이미지를 보고, 다운로드 받는다  →  모든 이미지를 다 다운로드 받으면 반복문을 끝내도 좋다"
   ]
  },
  {
   "cell_type": "markdown",
   "id": "7701062b-9cec-43b5-b310-217f723de3f1",
   "metadata": {},
   "source": [
    "# 02. while 반복문 문법 "
   ]
  },
  {
   "cell_type": "code",
   "execution_count": 4,
   "id": "72505937-6075-46e8-99f8-83519fec0a1f",
   "metadata": {},
   "outputs": [
    {
     "name": "stdout",
     "output_type": "stream",
     "text": [
      "나는 강세범이다!\n",
      "나는 강세범이다!\n",
      "나는 강세범이다!\n"
     ]
    }
   ],
   "source": [
    "i = 1\n",
    "while i <= 3:\n",
    "    print(\"나는 강세범이다!\")\n",
    "    i += 1 "
   ]
  },
  {
   "cell_type": "markdown",
   "id": "06e1c22c-96bc-4499-a713-cc9386545aa2",
   "metadata": {},
   "source": [
    "# 03. while 반복문 실습 "
   ]
  },
  {
   "cell_type": "markdown",
   "id": "98142204-5db5-4fc9-a9a2-d69dca24bff5",
   "metadata": {},
   "source": [
    "### while 반복문을 사용하여 1 이상 100 이하의 짝수를 모두 출력해 보세요."
   ]
  },
  {
   "cell_type": "markdown",
   "id": "88f37162-5ddf-45ce-a428-ef0ef23afd0c",
   "metadata": {
    "collapsed": true,
    "jupyter": {
     "outputs_hidden": true
    }
   },
   "source": [
    "i = 1 \n",
    "while i <=50:\n",
    "    print(i * 2)\n",
    "    i += 1"
   ]
  },
  {
   "cell_type": "markdown",
   "id": "7ccc241a-4b86-4096-b938-18ef19ae8135",
   "metadata": {},
   "source": [
    "# 04. if문 개념 "
   ]
  },
  {
   "cell_type": "markdown",
   "id": "37076044-18d0-4d2b-acc1-423e9fed1f1a",
   "metadata": {},
   "source": [
    "#### if 조건 부분(불린 값으로 계산되는 식) : \n",
    "#### (들여쓰기)  수행 부분 "
   ]
  },
  {
   "cell_type": "markdown",
   "id": "cad2e4c1-1b87-4c65-aea0-4d8a03fdfdb5",
   "metadata": {},
   "source": [
    "# 05. if문 문법 "
   ]
  },
  {
   "cell_type": "code",
   "execution_count": 8,
   "id": "b14b4db2-5551-4167-8e52-5416441545d8",
   "metadata": {},
   "outputs": [
    {
     "name": "stdout",
     "output_type": "stream",
     "text": [
      "자켓을 입지 않는다.\n"
     ]
    }
   ],
   "source": [
    "temperature = 16\n",
    "if temperature <= 10:\n",
    "    print('자켓을 입는다.')\n",
    "else:\n",
    "    print('자켓을 입지 않는다.')"
   ]
  },
  {
   "cell_type": "markdown",
   "id": "bb331ecf-9d9d-4d7f-bf21-cb14a708e1f4",
   "metadata": {},
   "source": [
    "# 06. elif문 (else + if, 읽기 편함)"
   ]
  },
  {
   "cell_type": "markdown",
   "id": "3e9e280b-a2c6-49ab-b83d-ab5763d6a83b",
   "metadata": {},
   "source": [
    "# 07. (실습) 학점 계산기 \n",
    "#### 학생들에게 최종 성적을 알려 주는 '학점 계산기'를 만들려고 합니다.\n",
    "#### 이 수업에는 50점 만점의 중간고사와 50점 만점의 기말고사가 있는데요. 두 시험의 점수를 합해서 최종 성적을 내는 방식입니다. 규칙은 다음과 같습니다.\n",
    "\n",
    "#### A: 90점 이상\n",
    "#### B: 80점 이상 90점 미만\n",
    "#### C: 70점 이상 80점 미만\n",
    "#### D: 60점 이상 70점 미만\n",
    "#### F: 60점 미만\n",
    "#### print_grade() 함수는 파라미터로 중간고사 점수 midterm_score와 기말고사 점수 final_score를 받아서 최종 성적을 출력합니다."
   ]
  },
  {
   "cell_type": "code",
   "execution_count": 14,
   "id": "c0d3e37b-aa99-4efa-8d88-9db97556bd03",
   "metadata": {},
   "outputs": [
    {
     "name": "stdout",
     "output_type": "stream",
     "text": [
      "B\n",
      "F\n",
      "D\n",
      "A\n"
     ]
    }
   ],
   "source": [
    "def print_grade(midtern_score, final_score): \n",
    "    total = midtern_score + final_score \n",
    "    if total >= 90:\n",
    "        print('A')\n",
    "    elif total >= 80:\n",
    "        print('B')\n",
    "    elif total >= 70:\n",
    "        print('C')\n",
    "    elif total >= 60:\n",
    "        print(\"D\")\n",
    "    else:\n",
    "        print(\"F\")\n",
    "\n",
    "\n",
    "print_grade(40, 45)\n",
    "print_grade(20, 35)\n",
    "print_grade(30, 32)\n",
    "print_grade(50, 45)"
   ]
  },
  {
   "cell_type": "code",
   "execution_count": null,
   "id": "69be3a7c-5362-4252-ab13-8884ef00ad0d",
   "metadata": {},
   "outputs": [],
   "source": []
  }
 ],
 "metadata": {
  "kernelspec": {
   "display_name": "Python [conda env:base] *",
   "language": "python",
   "name": "conda-base-py"
  },
  "language_info": {
   "codemirror_mode": {
    "name": "ipython",
    "version": 3
   },
   "file_extension": ".py",
   "mimetype": "text/x-python",
   "name": "python",
   "nbconvert_exporter": "python",
   "pygments_lexer": "ipython3",
   "version": "3.12.7"
  }
 },
 "nbformat": 4,
 "nbformat_minor": 5
}
