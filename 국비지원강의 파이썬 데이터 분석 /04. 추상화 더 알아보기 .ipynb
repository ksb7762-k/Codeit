{
 "cells": [
  {
   "cell_type": "markdown",
   "id": "664821b8-41a4-424c-912c-e7fe336113c9",
   "metadata": {},
   "source": [
    "# 01. 변수 제대로 이해하기 "
   ]
  },
  {
   "cell_type": "markdown",
   "id": "40b8cf76-eb66-4d96-8cb4-612f32ecf92e",
   "metadata": {},
   "source": [
    "### x = 7\n",
    "### x = x - 3 \n",
    "### 수학에서는 말이 안되지만 파이썬에서는 가능  파이썬에서 =는 지정연산자(Assignment operator) : 오른쪽에 있는 값을 왼쪽 변수에 넣어라"
   ]
  },
  {
   "cell_type": "markdown",
   "id": "3f0540b6-b5a6-4967-8f53-e3d46ce57690",
   "metadata": {},
   "source": [
    "# 02. 함수의 실행순서 "
   ]
  },
  {
   "cell_type": "markdown",
   "id": "9e87e685-694f-4038-9b0f-42429bb117a8",
   "metadata": {},
   "source": [
    "# 함수를 정의한다고 해서 함수가 실행되는 것은 아님 "
   ]
  },
  {
   "cell_type": "code",
   "execution_count": 1,
   "id": "91c08040-0e7e-411b-9b7a-593544727a44",
   "metadata": {},
   "outputs": [
    {
     "name": "stdout",
     "output_type": "stream",
     "text": [
      "함수 호출 전\n",
      "25\n",
      "함수 호출 후\n"
     ]
    }
   ],
   "source": [
    "def square(x):\n",
    "    return x * x \n",
    "\n",
    "print('함수 호출 전')\n",
    "print(square(3) + square(4))\n",
    "print(\"함수 호출 후\")"
   ]
  },
  {
   "cell_type": "markdown",
   "id": "34dfd270-38cc-4b5c-951e-21ed596a4d6c",
   "metadata": {},
   "source": [
    "# 03. return문 제대로 이해하기 (1. 값 돌려주기 2. 함수 즉시 종료하기)"
   ]
  },
  {
   "cell_type": "code",
   "execution_count": 1,
   "id": "18ff5f70-96ca-4e37-adde-11f2032e6f4c",
   "metadata": {},
   "outputs": [
    {
     "name": "stdout",
     "output_type": "stream",
     "text": [
      "함수 시작\n",
      "9\n",
      "Hello World!\n"
     ]
    }
   ],
   "source": [
    "def square(x):\n",
    "    print(\"함수 시작\")\n",
    "    return x * x\n",
    "    print(\"함수 끝\")  #Dead Code : 의미없는 코드\n",
    "\n",
    "\n",
    "print(square(3))\n",
    "print(\"Hello World!\")"
   ]
  },
  {
   "cell_type": "markdown",
   "id": "52512cce-f0c2-430e-a786-1af2128d616f",
   "metadata": {},
   "source": [
    "# 04. return문과 print의 차이 (return문이 따로 없으면 return값이 없다는 의미에서 None이라는 값이 리턴됨"
   ]
  },
  {
   "cell_type": "code",
   "execution_count": 18,
   "id": "199ac143-b9ee-4bcb-b5a2-adb1431253ad",
   "metadata": {},
   "outputs": [
    {
     "name": "stdout",
     "output_type": "stream",
     "text": [
      "9\n",
      "None\n"
     ]
    }
   ],
   "source": [
    "def print_square(x):\n",
    "    print(x * x)\n",
    "\n",
    "\n",
    "print(print_square(3))"
   ]
  },
  {
   "cell_type": "markdown",
   "id": "9dedf15d-e10a-4d01-88dc-7fab4bb77f5a",
   "metadata": {},
   "source": [
    "# 05. 옵셔널 파라미터 (옵셔널 파라미터는 꼭 마지막에! 중간에 넣으면 오류 발생)"
   ]
  },
  {
   "cell_type": "markdown",
   "id": "5a9030ce-9407-487b-9a49-31445f7c1b7d",
   "metadata": {},
   "source": [
    "### 파라미터에 '기본값(default value)'을 설정할 수 있는데요. 기본값을 설정해 두면, 함수를 호출할 때 파라미터에 값을 꼭 넘겨주지 않아도 됩니다. 이런 파라미터를 '옵셔널 파라미터(optional parameter)'라고 합니다. 필수로 넘겨줄 필요가 없으니까 '옵셔널'이라고 하는 거죠.\n",
    "\n",
    "### 아래 코드를 보세요. myself() 함수를 호출할 때 한 번은 파라미터 nationality에 들어갈 값을 제공했고, 한 번은 제공하지 않았습니다. 각각 어떻게 출력되는지 살펴보세요."
   ]
  },
  {
   "cell_type": "code",
   "execution_count": 24,
   "id": "0752ebac-c7fa-4c80-8ef0-2ee3dd2e888f",
   "metadata": {},
   "outputs": [
    {
     "name": "stdout",
     "output_type": "stream",
     "text": [
      "내 이름은 강세범\n",
      "나이는 25살\n",
      "국적은 미국\n",
      "\n",
      "내 이름은 강세범\n",
      "나이는 25살\n",
      "국적은 한국\n"
     ]
    }
   ],
   "source": [
    "def myself(name, age, nationality=\"한국\"):\n",
    "    print(\"내 이름은 {}\".format(name))\n",
    "    print(\"나이는 {}살\".format(age))\n",
    "    print(\"국적은 {}\".format(nationality))\n",
    "\n",
    "myself(\"강세범\", 25, \"미국\") # 옵셔널 파라미터에 값을 제공하는 경우\n",
    "print() # 공백을 넣어주기 위함 \n",
    "myself(\"강세범\", 25) # 옵셔널 파라미터에 값을 제공하지 않는 경우 \n"
   ]
  },
  {
   "cell_type": "markdown",
   "id": "34628b0b-a9e8-46c7-b110-c7745ee78b0c",
   "metadata": {},
   "source": [
    "# 06. Syntactic Sugar 자주 쓰이는 표현을 간략하게 쓸 수 있게 하는 문법)\n",
    "\n",
    "#### 다음 두 줄은 같습니다. \n",
    "\n",
    "#### x = x * 2\n",
    "#### x *= 2\n",
    "\n",
    "#### x = x - 3\n",
    "#### x -= 3\n",
    "\n",
    "#### x = x / 2\n",
    "#### x /= 2\n",
    "\n",
    "#### x = x % 7\n",
    "#### x %= 7"
   ]
  },
  {
   "cell_type": "markdown",
   "id": "b7ab21c1-71e1-4800-aa31-0cc4266644f1",
   "metadata": {},
   "source": [
    "# 07. 변수의 scope (글로벌 변수, 로컬 변수)"
   ]
  },
  {
   "cell_type": "code",
   "execution_count": 30,
   "id": "cc6ef1bf-9f03-440c-8da5-2ea18bd27f5e",
   "metadata": {
    "scrolled": true
   },
   "outputs": [
    {
     "name": "stdout",
     "output_type": "stream",
     "text": [
      "3\n",
      "2\n",
      "9\n"
     ]
    }
   ],
   "source": [
    "x = 2 # 글로벌 변수\n",
    "\n",
    "def my_function():\n",
    "    x = 3 # 로컬 변수\n",
    "    print(x)\n",
    "\n",
    "\n",
    "my_function()\n",
    "print(x)\n",
    "\n",
    "\n",
    "def square(x):  # 파라미터도 로컬 변수 \n",
    "    return x * x\n",
    "\n",
    "print(square(3))"
   ]
  },
  {
   "cell_type": "markdown",
   "id": "f45d6c84-c0cc-4145-b9d0-3484d3187550",
   "metadata": {},
   "source": [
    "# 08. (실습) 어떤 수가 짝수인지 홀수인지 판단하는 is_evenly_divisible() 함수를 작성하세요. \n",
    "\n",
    "### 이 함수는 number(숫자)를 파라미터로 받습니다. 짝수인 경우, 즉 number가 2로 나누어떨어질 경우에는 True를 리턴합니다. \n",
    "### 홀수인 경우, 즉 number가 2로 나누어떨어지지 않을 경우에는 False를 리턴합니다.\n",
    "### 함수 안에는 print() 함수가 아닌, return문을 사용해야 합니다. 참고로 불린 개념을 잘 사용하면, 함수를 단 한 줄로 작성할 수 있습니다."
   ]
  },
  {
   "cell_type": "code",
   "execution_count": 41,
   "id": "2abef88a-d387-4f77-bbb9-c55c77af5f59",
   "metadata": {},
   "outputs": [
    {
     "name": "stdout",
     "output_type": "stream",
     "text": [
      "False\n",
      "False\n",
      "True\n",
      "True\n",
      "False\n"
     ]
    }
   ],
   "source": [
    "def is_evenly_divisible(number):\n",
    "    return number % 2 == 0 \n",
    "\n",
    "print(is_evenly_divisible(3))\n",
    "print(is_evenly_divisible(5))\n",
    "print(is_evenly_divisible(6))\n",
    "print(is_evenly_divisible(8))\n",
    "print(is_evenly_divisible(7))\n",
    "\n",
    "    \n",
    "    "
   ]
  },
  {
   "cell_type": "raw",
   "id": "139ea2b8-c686-4115-8cfd-f7607ecc0ff8",
   "metadata": {},
   "source": []
  }
 ],
 "metadata": {
  "kernelspec": {
   "display_name": "Python [conda env:base] *",
   "language": "python",
   "name": "conda-base-py"
  },
  "language_info": {
   "codemirror_mode": {
    "name": "ipython",
    "version": 3
   },
   "file_extension": ".py",
   "mimetype": "text/x-python",
   "name": "python",
   "nbconvert_exporter": "python",
   "pygments_lexer": "ipython3",
   "version": "3.12.7"
  }
 },
 "nbformat": 4,
 "nbformat_minor": 5
}
