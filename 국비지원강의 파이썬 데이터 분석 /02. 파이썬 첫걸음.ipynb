{
 "cells": [
  {
   "cell_type": "markdown",
   "id": "fa8d70ee-81c5-446c-8ba0-0c964aef0bc0",
   "metadata": {},
   "source": [
    "# 1. 파이썬 첫걸음 \n",
    "\n",
    "# 2. 첫 번째 파이썬 코드 \n",
    "\n",
    "# 3. 파이썬 프로그래밍 도구들 "
   ]
  },
  {
   "cell_type": "markdown",
   "id": "33a3c6af",
   "metadata": {},
   "source": []
  },
  {
   "cell_type": "markdown",
   "id": "72725272-b254-4c1f-9906-5ca786c7d8be",
   "metadata": {},
   "source": [
    "# 4. 코멘트 \n",
    "\n",
    "# 5. 자료형 개요 \n",
    "\n",
    "# 6. 추상화 개요\n",
    "\n",
    "# 7. 변수"
   ]
  },
  {
   "cell_type": "code",
   "execution_count": 12,
   "id": "d12ee3a5-3ec0-464c-99cb-27fa14a86270",
   "metadata": {},
   "outputs": [
    {
     "name": "stdout",
     "output_type": "stream",
     "text": [
      "4990\n",
      "9980\n",
      "6480\n",
      "24200\n"
     ]
    }
   ],
   "source": [
    "print(4990)\n",
    "print(4990 * 2)\n",
    "print(4990 + 1490)\n",
    "print(4990 * 3 + 1490 * 2 + 1250 * 5)"
   ]
  },
  {
   "cell_type": "code",
   "execution_count": 22,
   "id": "b64192cc-95a3-4705-bc78-360fec6809a1",
   "metadata": {},
   "outputs": [
    {
     "name": "stdout",
     "output_type": "stream",
     "text": [
      "4990\n",
      "9980\n",
      "6480\n",
      "24200\n"
     ]
    }
   ],
   "source": [
    "burger_price = 4990\n",
    "fries_price = 1490 \n",
    "drink_price = 1250 \n",
    "# 4990이라는 변수를 burger_price에 저장한다는 뜻\n",
    "\n",
    "print(burger_price)\n",
    "print(burger_price * 2)\n",
    "print(burger_price + fries_price)\n",
    "print(burger_price * 3 + fries_price * 2 + drink_price * 5)"
   ]
  },
  {
   "cell_type": "markdown",
   "id": "52bd8e97-365c-404d-b587-4fb202092384",
   "metadata": {},
   "source": [
    "# 8. 칼로리 계산기 "
   ]
  },
  {
   "cell_type": "markdown",
   "id": "2144e34e-0429-40b7-864b-8c72f3a6319f",
   "metadata": {},
   "source": [
    "# 9. 함수"
   ]
  },
  {
   "cell_type": "code",
   "execution_count": 33,
   "id": "bfb5cafa-1444-48c8-b79d-f88b6669699c",
   "metadata": {},
   "outputs": [
    {
     "name": "stdout",
     "output_type": "stream",
     "text": [
      "4990\n"
     ]
    }
   ],
   "source": [
    "burger_price = 4990   \n",
    "print(burger_price) "
   ]
  },
  {
   "cell_type": "code",
   "execution_count": 50,
   "id": "a82c13ff-7cd8-47d1-9429-ac4b51c49160",
   "metadata": {},
   "outputs": [
    {
     "name": "stdout",
     "output_type": "stream",
     "text": [
      "Hello!\n",
      "Welcome to Codeit!\n",
      "Hello!\n",
      "Welcome to Codeit!\n",
      "Hello!\n",
      "Welcome to Codeit!\n"
     ]
    }
   ],
   "source": [
    "def hello(): # 함수의 헤더\n",
    "    print('Hello!')\n",
    "    print('Welcome to Codeit!')\n",
    "\n",
    "hello() # 탭을 하면 hello함수의 내용으로 인식되기 때문에 탭을 하면 안됨\n",
    "hello()\n",
    "hello()\n",
    "    \n",
    "    "
   ]
  },
  {
   "cell_type": "markdown",
   "id": "56ce227e-8269-4c91-a399-c9aac7778399",
   "metadata": {},
   "source": [
    "# 10. 파라미터 "
   ]
  },
  {
   "cell_type": "code",
   "execution_count": 54,
   "id": "435a63c4-7118-4507-a95e-493535320452",
   "metadata": {},
   "outputs": [
    {
     "name": "stdout",
     "output_type": "stream",
     "text": [
      "Hello!\n",
      "Welcome to Codeit!\n"
     ]
    }
   ],
   "source": [
    "hello()"
   ]
  },
  {
   "cell_type": "code",
   "execution_count": 58,
   "id": "6fed6c32-1583-4c21-b858-f92b78f7978a",
   "metadata": {},
   "outputs": [
    {
     "name": "stdout",
     "output_type": "stream",
     "text": [
      "Hello!\n",
      "Chris\n",
      "Welcome to Codeit!\n"
     ]
    }
   ],
   "source": [
    "def hello(name):\n",
    "    print(\"Hello!\")\n",
    "    print(name)\n",
    "    print(\"Welcome to Codeit!\")\n",
    "\n",
    "hello(\"Chris\") "
   ]
  },
  {
   "cell_type": "code",
   "execution_count": 64,
   "id": "ee08a930-7492-4d74-967c-ecf5ff525993",
   "metadata": {},
   "outputs": [
    {
     "name": "stdout",
     "output_type": "stream",
     "text": [
      "Hello!\n",
      "세범\n",
      "Welcome to Codeit!\n"
     ]
    }
   ],
   "source": [
    "hello('세범')"
   ]
  },
  {
   "cell_type": "markdown",
   "id": "bee314ef-1d54-4284-9b9d-b9275d45ee9e",
   "metadata": {},
   "source": [
    "# 11. 여러 개의 파라미터 "
   ]
  },
  {
   "cell_type": "code",
   "execution_count": 81,
   "id": "4d758267-8979-44d0-9170-55e859885573",
   "metadata": {},
   "outputs": [
    {
     "name": "stdout",
     "output_type": "stream",
     "text": [
      "15\n"
     ]
    }
   ],
   "source": [
    "def print_sum(a, b, c):\n",
    "    print(a + b + c) \n",
    "\n",
    "print_sum(7, 3, 5)"
   ]
  },
  {
   "cell_type": "markdown",
   "id": "4f9a5cff-3b99-4dd3-94f6-c5546ab33ed0",
   "metadata": {},
   "source": [
    "## 파라미터의 이름을 자유롭게 지을 수 있음 "
   ]
  },
  {
   "cell_type": "code",
   "execution_count": 90,
   "id": "25d7677b-6542-4234-8bb7-51f1aaeafcd1",
   "metadata": {},
   "outputs": [
    {
     "name": "stdout",
     "output_type": "stream",
     "text": [
      "23\n"
     ]
    }
   ],
   "source": [
    "def print_sum(num_1, num_2, num_3):\n",
    "    print(num_1 + num_2 + num_3)\n",
    "\n",
    "print_sum(8, 9, 6)"
   ]
  },
  {
   "cell_type": "code",
   "execution_count": null,
   "id": "1438943b-6fd2-4a09-b707-1b1217b1927c",
   "metadata": {},
   "outputs": [],
   "source": []
  }
 ],
 "metadata": {
  "kernelspec": {
   "display_name": "Python [conda env:base] *",
   "language": "python",
   "name": "conda-base-py"
  },
  "language_info": {
   "codemirror_mode": {
    "name": "ipython",
    "version": 3
   },
   "file_extension": ".py",
   "mimetype": "text/x-python",
   "name": "python",
   "nbconvert_exporter": "python",
   "pygments_lexer": "ipython3",
   "version": "3.12.7"
  }
 },
 "nbformat": 4,
 "nbformat_minor": 5
}
