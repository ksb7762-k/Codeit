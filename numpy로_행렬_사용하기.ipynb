{
  "nbformat": 4,
  "nbformat_minor": 0,
  "metadata": {
    "colab": {
      "provenance": [],
      "authorship_tag": "ABX9TyN8uF/Ol5py0zEPn7dBW+od",
      "include_colab_link": true
    },
    "kernelspec": {
      "name": "python3",
      "display_name": "Python 3"
    },
    "language_info": {
      "name": "python"
    }
  },
  "cells": [
    {
      "cell_type": "markdown",
      "metadata": {
        "id": "view-in-github",
        "colab_type": "text"
      },
      "source": [
        "<a href=\"https://colab.research.google.com/github/ksb7762-k/Codeit/blob/main/numpy%EB%A1%9C_%ED%96%89%EB%A0%AC_%EC%82%AC%EC%9A%A9%ED%95%98%EA%B8%B0.ipynb\" target=\"_parent\"><img src=\"https://colab.research.google.com/assets/colab-badge.svg\" alt=\"Open In Colab\"/></a>"
      ]
    },
    {
      "cell_type": "code",
      "source": [
        "import numpy as np"
      ],
      "metadata": {
        "id": "dg18_wsyZqNC"
      },
      "execution_count": 16,
      "outputs": []
    },
    {
      "cell_type": "markdown",
      "source": [
        "# numpy로 행렬 만들기"
      ],
      "metadata": {
        "id": "WgfJkZwUbbQF"
      }
    },
    {
      "cell_type": "code",
      "source": [
        "A = np.array([\n",
        "    [1, -1, 2],\n",
        "    [3, 2, 2],\n",
        "    [4, 1, 2],\n",
        "    [7, 5, 6]\n",
        "])\n",
        "\n",
        "A"
      ],
      "metadata": {
        "colab": {
          "base_uri": "https://localhost:8080/"
        },
        "id": "RvFEJGnjZr2I",
        "outputId": "79af963d-e20c-4e88-9404-2a6801be9e47"
      },
      "execution_count": 17,
      "outputs": [
        {
          "output_type": "execute_result",
          "data": {
            "text/plain": [
              "array([[ 1, -1,  2],\n",
              "       [ 3,  2,  2],\n",
              "       [ 4,  1,  2],\n",
              "       [ 7,  5,  6]])"
            ]
          },
          "metadata": {},
          "execution_count": 17
        }
      ]
    },
    {
      "cell_type": "code",
      "source": [
        "B = np.array([\n",
        "    [0, 1],\n",
        "    [-1, 3],\n",
        "    [5, 2]\n",
        "])\n",
        "\n",
        "B"
      ],
      "metadata": {
        "colab": {
          "base_uri": "https://localhost:8080/"
        },
        "id": "1kp3lLEuZ-PA",
        "outputId": "5f208530-77af-455b-9a33-b27f9f69480a"
      },
      "execution_count": 18,
      "outputs": [
        {
          "output_type": "execute_result",
          "data": {
            "text/plain": [
              "array([[ 0,  1],\n",
              "       [-1,  3],\n",
              "       [ 5,  2]])"
            ]
          },
          "metadata": {},
          "execution_count": 18
        }
      ]
    },
    {
      "cell_type": "code",
      "source": [
        "C = np.random.rand(3, 5)\n",
        "\n",
        "C"
      ],
      "metadata": {
        "colab": {
          "base_uri": "https://localhost:8080/"
        },
        "id": "FjCEaWSua2iN",
        "outputId": "8bd3c8b0-9563-4199-d21c-8604add90da0"
      },
      "execution_count": 19,
      "outputs": [
        {
          "output_type": "execute_result",
          "data": {
            "text/plain": [
              "array([[0.11065765, 0.21348118, 0.12250303, 0.74469926, 0.0585266 ],\n",
              "       [0.20532144, 0.01964678, 0.32393371, 0.62687982, 0.70256664],\n",
              "       [0.03039288, 0.72060634, 0.40941906, 0.72031874, 0.24991577]])"
            ]
          },
          "metadata": {},
          "execution_count": 19
        }
      ]
    },
    {
      "cell_type": "code",
      "source": [
        "D = np.zeros((2, 4))\n",
        "\n",
        "D"
      ],
      "metadata": {
        "colab": {
          "base_uri": "https://localhost:8080/"
        },
        "id": "Zm4MrwLmbFSY",
        "outputId": "9d52e7f9-dc52-4aa2-eafb-53e3295cf81d"
      },
      "execution_count": 20,
      "outputs": [
        {
          "output_type": "execute_result",
          "data": {
            "text/plain": [
              "array([[0., 0., 0., 0.],\n",
              "       [0., 0., 0., 0.]])"
            ]
          },
          "metadata": {},
          "execution_count": 20
        }
      ]
    },
    {
      "cell_type": "markdown",
      "source": [
        "# 행렬에서 원소를 받아오기"
      ],
      "metadata": {
        "id": "e48RSJuEbdxj"
      }
    },
    {
      "cell_type": "code",
      "source": [
        "A"
      ],
      "metadata": {
        "colab": {
          "base_uri": "https://localhost:8080/"
        },
        "id": "14v9Lm6ZbTLv",
        "outputId": "341ee12f-7677-42d4-cc51-32df2dc4c895"
      },
      "execution_count": 21,
      "outputs": [
        {
          "output_type": "execute_result",
          "data": {
            "text/plain": [
              "array([[ 1, -1,  2],\n",
              "       [ 3,  2,  2],\n",
              "       [ 4,  1,  2],\n",
              "       [ 7,  5,  6]])"
            ]
          },
          "metadata": {},
          "execution_count": 21
        }
      ]
    },
    {
      "cell_type": "code",
      "source": [
        "A[0][2] # 파이썬은 0부터 셈"
      ],
      "metadata": {
        "colab": {
          "base_uri": "https://localhost:8080/"
        },
        "id": "DdX6LJ1ebg5D",
        "outputId": "abd35bd7-e6c7-4505-a81a-29118200849e"
      },
      "execution_count": 22,
      "outputs": [
        {
          "output_type": "execute_result",
          "data": {
            "text/plain": [
              "np.int64(2)"
            ]
          },
          "metadata": {},
          "execution_count": 22
        }
      ]
    },
    {
      "cell_type": "markdown",
      "source": [
        "# numpy로 요소별 곱하기 하기"
      ],
      "metadata": {
        "id": "Gn8CGvaR0UfF"
      }
    },
    {
      "cell_type": "code",
      "source": [
        "import numpy as np"
      ],
      "metadata": {
        "id": "IKKR6hKWbnEB"
      },
      "execution_count": 23,
      "outputs": []
    },
    {
      "cell_type": "code",
      "source": [
        "A = np.array([\n",
        "    [1, 2, 3],\n",
        "    [4, 5, 6],\n",
        "    [7, 8, 9]\n",
        "])\n",
        "\n",
        "B = np.array([\n",
        "    [0, 1, 2],\n",
        "    [2, 0, 1],\n",
        "    [1, 2, 0]\n",
        "])"
      ],
      "metadata": {
        "id": "QhSdcF8v0rG0"
      },
      "execution_count": 24,
      "outputs": []
    },
    {
      "cell_type": "code",
      "source": [
        "A * B"
      ],
      "metadata": {
        "colab": {
          "base_uri": "https://localhost:8080/"
        },
        "id": "s7JdQ0k21Nf5",
        "outputId": "c9325c81-1312-4189-ad4b-d22d9a0c5267"
      },
      "execution_count": 25,
      "outputs": [
        {
          "output_type": "execute_result",
          "data": {
            "text/plain": [
              "array([[ 0,  2,  6],\n",
              "       [ 8,  0,  6],\n",
              "       [ 7, 16,  0]])"
            ]
          },
          "metadata": {},
          "execution_count": 25
        }
      ]
    },
    {
      "cell_type": "markdown",
      "source": [
        "# numpy로 행렬 연산하기"
      ],
      "metadata": {
        "id": "mYGfLh3k1S-b"
      }
    },
    {
      "cell_type": "code",
      "source": [
        "A = np.array([\n",
        "    [1, -1, 2],\n",
        "    [3, 2, 2],\n",
        "    [4, 1, 2]\n",
        "])\n",
        "\n",
        "B = np.random.rand(3, 3)"
      ],
      "metadata": {
        "id": "m-_3UDOd1Oom"
      },
      "execution_count": 26,
      "outputs": []
    },
    {
      "cell_type": "code",
      "source": [
        "A"
      ],
      "metadata": {
        "colab": {
          "base_uri": "https://localhost:8080/"
        },
        "id": "d6j76-3l1s8e",
        "outputId": "3ebca122-494f-4477-80ae-a92b83a47052"
      },
      "execution_count": 27,
      "outputs": [
        {
          "output_type": "execute_result",
          "data": {
            "text/plain": [
              "array([[ 1, -1,  2],\n",
              "       [ 3,  2,  2],\n",
              "       [ 4,  1,  2]])"
            ]
          },
          "metadata": {},
          "execution_count": 27
        }
      ]
    },
    {
      "cell_type": "code",
      "source": [
        "B"
      ],
      "metadata": {
        "colab": {
          "base_uri": "https://localhost:8080/"
        },
        "id": "oMvc_boR1t2x",
        "outputId": "9aa97a97-349f-4cb8-a15a-179e4412f23a"
      },
      "execution_count": 28,
      "outputs": [
        {
          "output_type": "execute_result",
          "data": {
            "text/plain": [
              "array([[0.83908614, 0.7699381 , 0.79426484],\n",
              "       [0.39253277, 0.36005269, 0.47184146],\n",
              "       [0.09263217, 0.3929973 , 0.63315188]])"
            ]
          },
          "metadata": {},
          "execution_count": 28
        }
      ]
    },
    {
      "cell_type": "code",
      "source": [
        "A + B"
      ],
      "metadata": {
        "colab": {
          "base_uri": "https://localhost:8080/"
        },
        "id": "miVnkmaW1uRO",
        "outputId": "05fe2d07-8026-4e78-d4e5-c8b7eb051a3d"
      },
      "execution_count": 29,
      "outputs": [
        {
          "output_type": "execute_result",
          "data": {
            "text/plain": [
              "array([[ 1.83908614, -0.2300619 ,  2.79426484],\n",
              "       [ 3.39253277,  2.36005269,  2.47184146],\n",
              "       [ 4.09263217,  1.3929973 ,  2.63315188]])"
            ]
          },
          "metadata": {},
          "execution_count": 29
        }
      ]
    },
    {
      "cell_type": "code",
      "source": [
        "5 * A  # 스칼라 곱"
      ],
      "metadata": {
        "colab": {
          "base_uri": "https://localhost:8080/"
        },
        "id": "ewCcszom1zaA",
        "outputId": "bd4acbfb-5ff0-43ce-9611-9f91140e5f36"
      },
      "execution_count": 30,
      "outputs": [
        {
          "output_type": "execute_result",
          "data": {
            "text/plain": [
              "array([[ 5, -5, 10],\n",
              "       [15, 10, 10],\n",
              "       [20,  5, 10]])"
            ]
          },
          "metadata": {},
          "execution_count": 30
        }
      ]
    },
    {
      "cell_type": "code",
      "source": [
        "np.dot(A, B) # 행렬과 행렬 곱하기"
      ],
      "metadata": {
        "colab": {
          "base_uri": "https://localhost:8080/"
        },
        "id": "Rq5vdIIl2F_L",
        "outputId": "174c0922-8eff-477d-cb77-940fb008f779"
      },
      "execution_count": 31,
      "outputs": [
        {
          "output_type": "execute_result",
          "data": {
            "text/plain": [
              "array([[0.63181772, 1.19588001, 1.58872714],\n",
              "       [3.48758831, 3.81591428, 4.59278121],\n",
              "       [3.93414169, 4.22579969, 4.91520459]])"
            ]
          },
          "metadata": {},
          "execution_count": 31
        }
      ]
    },
    {
      "cell_type": "code",
      "source": [
        "A @ B"
      ],
      "metadata": {
        "colab": {
          "base_uri": "https://localhost:8080/"
        },
        "id": "zC50PEuw2KGZ",
        "outputId": "670890eb-2457-4012-823f-7f4185492ad7"
      },
      "execution_count": 32,
      "outputs": [
        {
          "output_type": "execute_result",
          "data": {
            "text/plain": [
              "array([[0.63181772, 1.19588001, 1.58872714],\n",
              "       [3.48758831, 3.81591428, 4.59278121],\n",
              "       [3.93414169, 4.22579969, 4.91520459]])"
            ]
          },
          "metadata": {},
          "execution_count": 32
        }
      ]
    },
    {
      "cell_type": "code",
      "source": [
        "A * B"
      ],
      "metadata": {
        "colab": {
          "base_uri": "https://localhost:8080/"
        },
        "id": "QBx8OKbI2RwA",
        "outputId": "19a72471-2a70-4eec-ef69-b50dbe9cbc6d"
      },
      "execution_count": 33,
      "outputs": [
        {
          "output_type": "execute_result",
          "data": {
            "text/plain": [
              "array([[ 0.83908614, -0.7699381 ,  1.58852968],\n",
              "       [ 1.1775983 ,  0.72010538,  0.94368293],\n",
              "       [ 0.37052869,  0.3929973 ,  1.26630376]])"
            ]
          },
          "metadata": {},
          "execution_count": 33
        }
      ]
    },
    {
      "cell_type": "code",
      "source": [
        "A @ B + (A + 2 * B)"
      ],
      "metadata": {
        "colab": {
          "base_uri": "https://localhost:8080/"
        },
        "id": "CMYb20lB2ao4",
        "outputId": "0658d87e-d847-4f88-dcbf-f650589edf81"
      },
      "execution_count": 34,
      "outputs": [
        {
          "output_type": "execute_result",
          "data": {
            "text/plain": [
              "array([[3.30999001, 1.73575621, 5.17725682],\n",
              "       [7.27265384, 6.53601966, 7.53646414],\n",
              "       [8.11940603, 6.01179429, 8.18150835]])"
            ]
          },
          "metadata": {},
          "execution_count": 34
        }
      ]
    },
    {
      "cell_type": "markdown",
      "source": [
        "### 실습설명\n",
        "이번 과제에서는 numpy를 사용해서 행렬 연산을 해보겠습니다. 지금 템플릿에는 행렬 4개, 각각 A,B,C,D의 행렬이 정의되어 있는데요. 이 행렬들을 이용해서 다음과 아래 행렬 연산을 해보세요.\n",
        "\n",
        "2A × -B × (3C + D)\n"
      ],
      "metadata": {
        "id": "Af8VJZKh4126"
      }
    },
    {
      "cell_type": "code",
      "source": [
        "A = np.array([\n",
        "    [1, -1, 2],\n",
        "    [3, 2, 2]\n",
        "])\n",
        "\n",
        "B = np.array([\n",
        "    [0, 1],\n",
        "    [-1, 1],\n",
        "    [5, 2]\n",
        "])\n",
        "\n",
        "C = np.array([\n",
        "    [2, -1],\n",
        "    [-3, 3]\n",
        "])\n",
        "\n",
        "D = np.array([\n",
        "    [-5, 1],\n",
        "    [2, 0]\n",
        "])"
      ],
      "metadata": {
        "id": "GNjgSlrh2ssy"
      },
      "execution_count": 35,
      "outputs": []
    },
    {
      "cell_type": "code",
      "source": [
        "result = 2 * A @ ((-1) * B) @ (3 * C + D)\n",
        "\n",
        "result"
      ],
      "metadata": {
        "colab": {
          "base_uri": "https://localhost:8080/"
        },
        "id": "aZf2uSRW5TQ1",
        "outputId": "00d79319-444a-4e19-8fa6-27012518ca71"
      },
      "execution_count": 36,
      "outputs": [
        {
          "output_type": "execute_result",
          "data": {
            "text/plain": [
              "array([[  34,  -28],\n",
              "       [ 110, -130]])"
            ]
          },
          "metadata": {},
          "execution_count": 36
        }
      ]
    },
    {
      "cell_type": "markdown",
      "source": [
        "## numpy로 전치, 단위, 역행렬 사용하기"
      ],
      "metadata": {
        "id": "_bsatZl-BZ5H"
      }
    },
    {
      "cell_type": "code",
      "source": [
        "A = np.array([\n",
        "    [1, -1, 2],\n",
        "    [3, 2, 2],\n",
        "    [4, 1, 2]\n",
        "])"
      ],
      "metadata": {
        "id": "Zown6xXlBXmu"
      },
      "execution_count": 37,
      "outputs": []
    },
    {
      "cell_type": "code",
      "source": [
        "A"
      ],
      "metadata": {
        "colab": {
          "base_uri": "https://localhost:8080/"
        },
        "id": "ihXdypALBuwl",
        "outputId": "d6609515-1855-452e-cd0f-c542ef732ec2"
      },
      "execution_count": 38,
      "outputs": [
        {
          "output_type": "execute_result",
          "data": {
            "text/plain": [
              "array([[ 1, -1,  2],\n",
              "       [ 3,  2,  2],\n",
              "       [ 4,  1,  2]])"
            ]
          },
          "metadata": {},
          "execution_count": 38
        }
      ]
    },
    {
      "cell_type": "code",
      "source": [
        "A_transpose = np.transpose(A)\n",
        "A_transpose"
      ],
      "metadata": {
        "colab": {
          "base_uri": "https://localhost:8080/"
        },
        "id": "bAB6Zbm3BxpH",
        "outputId": "cc38c3c6-42b5-4832-fd9d-99b0d04b6430"
      },
      "execution_count": 42,
      "outputs": [
        {
          "output_type": "execute_result",
          "data": {
            "text/plain": [
              "array([[ 1,  3,  4],\n",
              "       [-1,  2,  1],\n",
              "       [ 2,  2,  2]])"
            ]
          },
          "metadata": {},
          "execution_count": 42
        }
      ]
    },
    {
      "cell_type": "markdown",
      "source": [
        "더 쉬운 방법"
      ],
      "metadata": {
        "id": "ftjsDhKSDSq-"
      }
    },
    {
      "cell_type": "code",
      "source": [
        "A"
      ],
      "metadata": {
        "colab": {
          "base_uri": "https://localhost:8080/"
        },
        "id": "SLo2KvKhDdNj",
        "outputId": "5cb2d64a-8af1-4523-b12c-8b7c15c80518"
      },
      "execution_count": 43,
      "outputs": [
        {
          "output_type": "execute_result",
          "data": {
            "text/plain": [
              "array([[ 1, -1,  2],\n",
              "       [ 3,  2,  2],\n",
              "       [ 4,  1,  2]])"
            ]
          },
          "metadata": {},
          "execution_count": 43
        }
      ]
    },
    {
      "cell_type": "code",
      "source": [
        "A_transpose = A.T\n",
        "A_transpose"
      ],
      "metadata": {
        "colab": {
          "base_uri": "https://localhost:8080/"
        },
        "id": "Y7qghqYxCCjI",
        "outputId": "6049522f-7459-4914-b03c-7af2100171e2"
      },
      "execution_count": 44,
      "outputs": [
        {
          "output_type": "execute_result",
          "data": {
            "text/plain": [
              "array([[ 1,  3,  4],\n",
              "       [-1,  2,  1],\n",
              "       [ 2,  2,  2]])"
            ]
          },
          "metadata": {},
          "execution_count": 44
        }
      ]
    },
    {
      "cell_type": "code",
      "source": [
        "I = np.identity(3)\n",
        "I"
      ],
      "metadata": {
        "colab": {
          "base_uri": "https://localhost:8080/"
        },
        "id": "MMIJF7-RDYRE",
        "outputId": "2865cbd1-c759-4135-b8a3-e091ef54840f"
      },
      "execution_count": 46,
      "outputs": [
        {
          "output_type": "execute_result",
          "data": {
            "text/plain": [
              "array([[1., 0., 0.],\n",
              "       [0., 1., 0.],\n",
              "       [0., 0., 1.]])"
            ]
          },
          "metadata": {},
          "execution_count": 46
        }
      ]
    },
    {
      "cell_type": "code",
      "source": [
        "A @ I"
      ],
      "metadata": {
        "colab": {
          "base_uri": "https://localhost:8080/"
        },
        "id": "YdW0D58YDnuv",
        "outputId": "91d6d734-b644-4df9-f338-5ad23ef81b8f"
      },
      "execution_count": 48,
      "outputs": [
        {
          "output_type": "execute_result",
          "data": {
            "text/plain": [
              "array([[ 1., -1.,  2.],\n",
              "       [ 3.,  2.,  2.],\n",
              "       [ 4.,  1.,  2.]])"
            ]
          },
          "metadata": {},
          "execution_count": 48
        }
      ]
    },
    {
      "cell_type": "code",
      "source": [
        "A_inverse = np.linalg.pinv(A)\n",
        "A_inverse"
      ],
      "metadata": {
        "colab": {
          "base_uri": "https://localhost:8080/"
        },
        "id": "FECe--eQDtLJ",
        "outputId": "a5bb0df0-fc94-40b7-b064-34bf53baeae5"
      },
      "execution_count": 50,
      "outputs": [
        {
          "output_type": "execute_result",
          "data": {
            "text/plain": [
              "array([[-0.2, -0.4,  0.6],\n",
              "       [-0.2,  0.6, -0.4],\n",
              "       [ 0.5,  0.5, -0.5]])"
            ]
          },
          "metadata": {},
          "execution_count": 50
        }
      ]
    },
    {
      "cell_type": "code",
      "source": [
        "A @ A_inverse"
      ],
      "metadata": {
        "colab": {
          "base_uri": "https://localhost:8080/"
        },
        "id": "ARSMKn6iD8CM",
        "outputId": "13d4b872-5c99-4e82-8237-3c802a7a9141"
      },
      "execution_count": 51,
      "outputs": [
        {
          "output_type": "execute_result",
          "data": {
            "text/plain": [
              "array([[ 1.00000000e+00,  5.55111512e-16, -8.88178420e-16],\n",
              "       [ 0.00000000e+00,  1.00000000e+00, -8.88178420e-16],\n",
              "       [ 0.00000000e+00,  3.33066907e-16,  1.00000000e+00]])"
            ]
          },
          "metadata": {},
          "execution_count": 51
        }
      ]
    },
    {
      "cell_type": "markdown",
      "source": [
        "컴퓨터가 소수형을 다룰 때 완벽하게 표현하기 어려움. 그래서 소수형을 사용할 때 약간의 오차가 생길 수 밖에 없음"
      ],
      "metadata": {
        "id": "cswlPYQ2HCPR"
      }
    },
    {
      "cell_type": "code",
      "source": [],
      "metadata": {
        "id": "qfDaek8UGnkh"
      },
      "execution_count": null,
      "outputs": []
    }
  ]
}