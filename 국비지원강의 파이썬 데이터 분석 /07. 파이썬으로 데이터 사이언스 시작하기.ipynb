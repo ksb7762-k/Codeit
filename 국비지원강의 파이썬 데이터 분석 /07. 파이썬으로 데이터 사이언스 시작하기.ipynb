{
 "cells": [
  {
   "cell_type": "markdown",
   "id": "83928a7f-e4ea-489c-9f32-4de55da54e85",
   "metadata": {},
   "source": [
    "# 01. 토픽 소개"
   ]
  },
  {
   "cell_type": "markdown",
   "id": "c436fe11-92c5-442d-af19-1d93e9e7b0e1",
   "metadata": {},
   "source": [
    "# 02. 수강 가이드 "
   ]
  },
  {
   "cell_type": "markdown",
   "id": "cf577a24-c63a-4784-b81e-14e370caf72e",
   "metadata": {},
   "source": [
    "# 03. Jupyter Notebook이 무엇인가요?"
   ]
  },
  {
   "cell_type": "markdown",
   "id": "9b2029a1-f452-48ef-b548-c949301bccb2",
   "metadata": {},
   "source": [
    "### 코드를 나눠서 순차적으로 실행할 수 있음. 즉, 지금까지 쓴 코드와 각각의 실행결과를 누적해서 볼 수 있음. "
   ]
  },
  {
   "cell_type": "markdown",
   "id": "52277ef9-3c94-44ef-82a8-1b724991fc5f",
   "metadata": {},
   "source": [
    "# 04. Jupyter Notebook 둘러보기"
   ]
  },
  {
   "cell_type": "code",
   "execution_count": 1,
   "id": "afc735c6-e455-42d2-9f9b-87c0676600ea",
   "metadata": {},
   "outputs": [
    {
     "name": "stdout",
     "output_type": "stream",
     "text": [
      "hello jupyter!\n"
     ]
    }
   ],
   "source": [
    "print('hello jupyter!')"
   ]
  },
  {
   "cell_type": "code",
   "execution_count": 2,
   "id": "4bebb906-8fd8-4f33-9606-85fc4929fe9a",
   "metadata": {},
   "outputs": [
    {
     "name": "stdout",
     "output_type": "stream",
     "text": [
      "my first project\n"
     ]
    }
   ],
   "source": [
    "print('my first project')"
   ]
  },
  {
   "cell_type": "markdown",
   "id": "03786445-41ff-4db6-bf03-74cb6cd43e86",
   "metadata": {},
   "source": [
    "# 05. 셀의 작동방식"
   ]
  },
  {
   "cell_type": "code",
   "execution_count": 11,
   "id": "6522cd26-f1c8-42db-ad43-b545e06b879c",
   "metadata": {},
   "outputs": [
    {
     "name": "stdout",
     "output_type": "stream",
     "text": [
      "6\n",
      "25\n"
     ]
    }
   ],
   "source": [
    "x = 6\n",
    "y = 25\n",
    "print(x)\n",
    "print(y)\n"
   ]
  },
  {
   "cell_type": "code",
   "execution_count": 4,
   "id": "5c64326b-8842-4297-a45d-bff7eb085b5e",
   "metadata": {},
   "outputs": [
    {
     "name": "stdout",
     "output_type": "stream",
     "text": [
      "31\n"
     ]
    }
   ],
   "source": [
    "print(x + y) "
   ]
  },
  {
   "cell_type": "code",
   "execution_count": 5,
   "id": "7b37dd15-5c72-4caf-939e-f04ad680d1ab",
   "metadata": {},
   "outputs": [
    {
     "data": {
      "text/plain": [
       "6"
      ]
     },
     "execution_count": 5,
     "metadata": {},
     "output_type": "execute_result"
    }
   ],
   "source": [
    "x"
   ]
  },
  {
   "cell_type": "code",
   "execution_count": 6,
   "id": "0a647950-6c8a-46d6-8deb-990d10d76f41",
   "metadata": {},
   "outputs": [
    {
     "data": {
      "text/plain": [
       "25"
      ]
     },
     "execution_count": 6,
     "metadata": {},
     "output_type": "execute_result"
    }
   ],
   "source": [
    "y"
   ]
  },
  {
   "cell_type": "code",
   "execution_count": 7,
   "id": "af3f4fdb-f118-463a-ae0b-6bbc6c27fe87",
   "metadata": {},
   "outputs": [
    {
     "name": "stdout",
     "output_type": "stream",
     "text": [
      "6\n"
     ]
    },
    {
     "data": {
      "text/plain": [
       "25"
      ]
     },
     "execution_count": 7,
     "metadata": {},
     "output_type": "execute_result"
    }
   ],
   "source": [
    "print(x)\n",
    "y # 한 셀의 맨 마지막 줄만 프린트 없이도 결과괎이 뜸 "
   ]
  },
  {
   "cell_type": "code",
   "execution_count": 8,
   "id": "1a8c212f-40c2-4651-b5f8-d0ed7bc9f34d",
   "metadata": {},
   "outputs": [],
   "source": [
    "a = 3"
   ]
  },
  {
   "cell_type": "code",
   "execution_count": 9,
   "id": "3d40baee-06cf-4abc-99ff-50491c86bff0",
   "metadata": {},
   "outputs": [],
   "source": [
    "y = 12\n",
    "z= 30"
   ]
  },
  {
   "cell_type": "markdown",
   "id": "361b272b-f0c6-4748-9019-175188d56faa",
   "metadata": {},
   "source": [
    "# 06. 마크다운 사용하기 "
   ]
  },
  {
   "cell_type": "markdown",
   "id": "cb089017-2275-4ea1-9fac-745032312a45",
   "metadata": {},
   "source": [
    "# 데이터 사이언스\n",
    "## 데이터 사이언스\n",
    "### 데이터 사이언스\n",
    "데이터 사이언스"
   ]
  },
  {
   "cell_type": "markdown",
   "id": "81c9c366-7cf0-4d7d-a540-9a7eb9c50901",
   "metadata": {},
   "source": [
    "# 이번 토픽을 통해 **데이터 사이언스**의 기초를 *탄탄하게* 다집시다."
   ]
  },
  {
   "cell_type": "markdown",
   "id": "b3734e38-da29-4065-b21b-af66a6cb4353",
   "metadata": {},
   "source": [
    "- Jupyter Notebook\n",
    "- NumPy\n",
    "- matplotlib\n",
    "- pandas"
   ]
  },
  {
   "cell_type": "code",
   "execution_count": null,
   "id": "6da8d7fc-d4bc-47cd-8294-e3246420ee2d",
   "metadata": {},
   "outputs": [],
   "source": []
  }
 ],
 "metadata": {
  "kernelspec": {
   "display_name": "Python 3 (ipykernel)",
   "language": "python",
   "name": "python3"
  },
  "language_info": {
   "codemirror_mode": {
    "name": "ipython",
    "version": 3
   },
   "file_extension": ".py",
   "mimetype": "text/x-python",
   "name": "python",
   "nbconvert_exporter": "python",
   "pygments_lexer": "ipython3",
   "version": "3.12.7"
  }
 },
 "nbformat": 4,
 "nbformat_minor": 5
}
