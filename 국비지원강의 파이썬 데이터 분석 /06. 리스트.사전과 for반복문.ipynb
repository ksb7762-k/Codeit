{
 "cells": [
  {
   "cell_type": "markdown",
   "id": "e5677adc-c382-4aaf-952b-dc6823fcd5f1",
   "metadata": {},
   "source": [
    "# 01. 리스트  (list)"
   ]
  },
  {
   "cell_type": "code",
   "execution_count": 1,
   "id": "1679ce38-252c-46a6-9f82-c5a1c5be9894",
   "metadata": {},
   "outputs": [
    {
     "name": "stdout",
     "output_type": "stream",
     "text": [
      "[2, 3, 5, 7, 11, 13]\n",
      "['세범', '새범', '쇄범', '쉐범']\n"
     ]
    }
   ],
   "source": [
    "numbers = [2, 3, 5, 7, 11, 13]\n",
    "names = [\"세범\", \"새범\", \"쇄범\", \"쉐범\"]\n",
    "\n",
    "print(numbers)\n",
    "print(names)"
   ]
  },
  {
   "cell_type": "markdown",
   "id": "bd690f16-f0c3-416a-a086-16d45150b0e7",
   "metadata": {},
   "source": [
    "### 인덱싱 (indexing)"
   ]
  },
  {
   "cell_type": "code",
   "execution_count": 2,
   "id": "d6ed3062-dcb8-4da0-ba1c-2e60c7179a6e",
   "metadata": {},
   "outputs": [
    {
     "name": "stdout",
     "output_type": "stream",
     "text": [
      "새범\n"
     ]
    }
   ],
   "source": [
    "print(names[1])"
   ]
  },
  {
   "cell_type": "code",
   "execution_count": 6,
   "id": "dc5baddf-dfe2-4b6d-9f75-c4a45d630ac5",
   "metadata": {},
   "outputs": [
    {
     "name": "stdout",
     "output_type": "stream",
     "text": [
      "10\n"
     ]
    }
   ],
   "source": [
    "print(numbers[1] + numbers[3])"
   ]
  },
  {
   "cell_type": "code",
   "execution_count": 8,
   "id": "e73b7df4-5e09-40b5-ad4e-db096b562a1c",
   "metadata": {},
   "outputs": [
    {
     "name": "stdout",
     "output_type": "stream",
     "text": [
      "7\n"
     ]
    }
   ],
   "source": [
    "print(numbers[-3]) # 마이너스 인덱스"
   ]
  },
  {
   "cell_type": "markdown",
   "id": "4ebd1ad6-d728-4667-a332-dde3072a4fff",
   "metadata": {},
   "source": [
    "### 리스트 슬라이싱 (list slicing)"
   ]
  },
  {
   "cell_type": "code",
   "execution_count": 12,
   "id": "b966a192-e6d5-405b-97fa-f2663dcb57e4",
   "metadata": {},
   "outputs": [
    {
     "name": "stdout",
     "output_type": "stream",
     "text": [
      "[2, 3, 5, 7]\n"
     ]
    }
   ],
   "source": [
    "print(numbers[0:4])"
   ]
  },
  {
   "cell_type": "code",
   "execution_count": 14,
   "id": "fe36bfa8-5560-41af-8e64-3d81cfefb85c",
   "metadata": {},
   "outputs": [
    {
     "name": "stdout",
     "output_type": "stream",
     "text": [
      "[5, 7, 11, 13]\n"
     ]
    }
   ],
   "source": [
    "print(numbers[2:])"
   ]
  },
  {
   "cell_type": "code",
   "execution_count": 15,
   "id": "67f5c1a3-d20f-4ec2-b719-b4f6c6b2d5a0",
   "metadata": {},
   "outputs": [
    {
     "name": "stdout",
     "output_type": "stream",
     "text": [
      "[2, 3, 5]\n"
     ]
    }
   ],
   "source": [
    "print(numbers[:3])"
   ]
  },
  {
   "cell_type": "code",
   "execution_count": 16,
   "id": "a3b95ad7-f904-40eb-8405-ea1503d209f3",
   "metadata": {},
   "outputs": [
    {
     "name": "stdout",
     "output_type": "stream",
     "text": [
      "5\n"
     ]
    }
   ],
   "source": [
    "new_list = numbers[:3]\n",
    "print(new_list[2])"
   ]
  },
  {
   "cell_type": "code",
   "execution_count": 17,
   "id": "240c2676-98ab-4b92-9409-e0ff7e2715b3",
   "metadata": {},
   "outputs": [
    {
     "name": "stdout",
     "output_type": "stream",
     "text": [
      "[7, 3, 5, 7, 11, 13]\n"
     ]
    }
   ],
   "source": [
    "numbers[0] = 7 \n",
    "print(numbers)"
   ]
  },
  {
   "cell_type": "code",
   "execution_count": 20,
   "id": "0cbe65ec-f1bb-4af2-9350-f158d333ec51",
   "metadata": {},
   "outputs": [
    {
     "name": "stdout",
     "output_type": "stream",
     "text": [
      "[5, 3, 5, 7, 11, 13]\n"
     ]
    }
   ],
   "source": [
    "numbers = [2, 3, 5, 7, 11, 13]\n",
    "numbers[0] = numbers[0] + numbers[1]\n",
    "print(numbers)"
   ]
  },
  {
   "cell_type": "markdown",
   "id": "326d9cb6-28b5-4946-9baa-860534d324b9",
   "metadata": {},
   "source": [
    "# 02. 리스트 함수 "
   ]
  },
  {
   "cell_type": "code",
   "execution_count": 11,
   "id": "26ba41f5-e372-450f-bfe6-44d64f2ec821",
   "metadata": {},
   "outputs": [
    {
     "name": "stdout",
     "output_type": "stream",
     "text": [
      "[5, 8]\n",
      "2\n"
     ]
    }
   ],
   "source": [
    "numbers = []\n",
    "numbers.append(5) # 추가연산 \n",
    "numbers.append(8)\n",
    "print(numbers)\n",
    "print(len(numbers))"
   ]
  },
  {
   "cell_type": "code",
   "execution_count": 7,
   "id": "3ba1e553-b6cd-4925-85f0-a31cd813ed75",
   "metadata": {},
   "outputs": [
    {
     "name": "stdout",
     "output_type": "stream",
     "text": [
      "[2, 3, 5, 11, 13, 17, 19]\n"
     ]
    }
   ],
   "source": [
    "numbers = [2,3,5,7,11,13,17,19]\n",
    "del numbers[3]\n",
    "print(numbers)"
   ]
  },
  {
   "cell_type": "code",
   "execution_count": 12,
   "id": "0bdc0803-bb9a-4e86-8965-6828baf75c2f",
   "metadata": {},
   "outputs": [
    {
     "name": "stdout",
     "output_type": "stream",
     "text": [
      "[2, 3, 5, 7, 37, 11, 13, 17, 19]\n"
     ]
    }
   ],
   "source": [
    "numbers = [2,3,5,7,11,13,17,19]\n",
    "numbers.insert(4, 37) # 삽입연산\n",
    "print(numbers)"
   ]
  },
  {
   "cell_type": "markdown",
   "id": "404d9518-91e8-41c6-94a8-5efe20b3b095",
   "metadata": {},
   "source": [
    "# 03. 리스트 정렬 (sorted와 sort의 차이)\n",
    "### sorted 기존 리스트는 건드리지 않고, 정렬된 새로운 리스트를 리턴\n",
    "### sort 아무것도 리턴하지 않고, 기존 리스트를 정렬 "
   ]
  },
  {
   "cell_type": "code",
   "execution_count": 17,
   "id": "b03c276d-4af9-44d8-9e9e-f34dd22a71d6",
   "metadata": {},
   "outputs": [
    {
     "name": "stdout",
     "output_type": "stream",
     "text": [
      "[1, 3, 6, 8, 17, 19]\n",
      "[19, 17, 8, 6, 3, 1]\n",
      "[19, 17, 8, 3, 1, 6]\n"
     ]
    }
   ],
   "source": [
    "numbers = [19, 17, 8, 3, 1, 6]\n",
    "new_list = sorted(numbers)\n",
    "old_list = sorted(numbers, reverse = True)\n",
    "print(new_list)\n",
    "print(old_list)\n",
    "print(numbers)"
   ]
  },
  {
   "cell_type": "code",
   "execution_count": 18,
   "id": "b63fe6c3-b06a-433f-b3e3-518978aa1b18",
   "metadata": {},
   "outputs": [
    {
     "name": "stdout",
     "output_type": "stream",
     "text": [
      "None\n"
     ]
    }
   ],
   "source": [
    "numbers = [19, 17, 8, 3, 1, 6]\n",
    "print(numbers.sort())"
   ]
  },
  {
   "cell_type": "markdown",
   "id": "28d4b604-143e-4be9-b68e-55ebecbeb779",
   "metadata": {},
   "source": [
    "### sort는 아무것도 리턴하지 않음. 그대신 numbers list 자체를 정렬함. "
   ]
  },
  {
   "cell_type": "code",
   "execution_count": 19,
   "id": "27477f3a-1459-4e38-a27b-f35fa2025b4f",
   "metadata": {},
   "outputs": [
    {
     "name": "stdout",
     "output_type": "stream",
     "text": [
      "[1, 3, 6, 8, 17, 19]\n"
     ]
    }
   ],
   "source": [
    "numbers = [19, 17, 8, 3, 1, 6]\n",
    "\n",
    "numbers.sort()\n",
    "print(numbers)"
   ]
  },
  {
   "cell_type": "markdown",
   "id": "094abe47-e8ec-4630-91c0-c80b1a9e51a0",
   "metadata": {},
   "source": [
    "# 04. 리스트 인덱싱 연습 \n",
    "\n",
    "#### greetings = [\"안녕\", \"니하오\", \"곤니찌와\", \"올라\", \"싸와디캅\", \"헬로\", \"봉주르\"]\n",
    "\n",
    "#### greetings 리스트의 원소를 모두 출력하는 프로그램을 작성해 보세요. while문과 리스트의 개념을 활용하시면 됩니다.\n",
    "\n",
    "#### 출력하면 아래와 같은 결과물이 나와야 합니다.\n",
    "\n",
    "#### 안녕\n",
    "#### 니하오\n",
    "#### 곤니찌와\n",
    "#### 올라\n",
    "#### 싸와디캅\n",
    "#### 헬로\n",
    "#### 봉주르\n",
    "\n"
   ]
  },
  {
   "cell_type": "code",
   "execution_count": 1,
   "id": "c7ebbb48-4068-4814-bb93-1712cf6ef6c0",
   "metadata": {
    "scrolled": true
   },
   "outputs": [
    {
     "name": "stdout",
     "output_type": "stream",
     "text": [
      "안녕\n",
      "니하오\n",
      "곤니찌와\n",
      "올라\n",
      "싸와디캅\n",
      "헬로\n",
      "봉주르\n"
     ]
    }
   ],
   "source": [
    "greetings = [\"안녕\", \"니하오\", \"곤니찌와\", \"올라\", \"싸와디캅\", \"헬로\", \"봉주르\"]\n",
    "\n",
    "i = 0\n",
    "while i <= 6:\n",
    "    print(greetings[i])\n",
    "    i += 1"
   ]
  },
  {
   "cell_type": "code",
   "execution_count": 25,
   "id": "e3bd9e68-acd1-42c7-a2de-745f1ae653c6",
   "metadata": {},
   "outputs": [
    {
     "name": "stdout",
     "output_type": "stream",
     "text": [
      "안녕\n",
      "니하오\n",
      "곤니찌와\n",
      "올라\n",
      "싸와디캅\n",
      "헬로\n",
      "봉주르\n"
     ]
    }
   ],
   "source": [
    "greetings = [\"안녕\", \"니하오\", \"곤니찌와\", \"올라\", \"싸와디캅\", \"헬로\", \"봉주르\"]\n",
    "\n",
    "i = 0\n",
    "while i <= 6:\n",
    "    print(greetings[i])\n",
    "    i += 1"
   ]
  },
  {
   "cell_type": "code",
   "execution_count": 27,
   "id": "8fb71116-51b9-4761-93bf-0870e898df8a",
   "metadata": {},
   "outputs": [
    {
     "name": "stdout",
     "output_type": "stream",
     "text": [
      "안녕\n",
      "니하오\n",
      "곤니찌와\n",
      "올라\n",
      "싸와디캅\n",
      "헬로\n",
      "봉주르\n"
     ]
    }
   ],
   "source": [
    "greetings = [\"안녕\", \"니하오\", \"곤니찌와\", \"올라\", \"싸와디캅\", \"헬로\", \"봉주르\"]\n",
    "\n",
    "i = 0\n",
    "while i < len(greetings):\n",
    "    print(greetings[i])\n",
    "    i += 1"
   ]
  },
  {
   "cell_type": "markdown",
   "id": "399733f5-4ced-4678-a791-890cbc2a5c54",
   "metadata": {},
   "source": [
    "# 05. 리스트 함수 활용하기 \n",
    "# 실습하기 \n",
    "#### 리스트 함수를 활용하여 아래의 지시 사항을 따르세요.\n",
    "#### numbers라는 빈 리스트를 만들고 리스트를 출력한다.\n",
    "#### append를 이용해서 numbers에 1, 7, 3, 6, 5, 2, 13, 14를 순서대로 추가한다. 그 후 리스트를 출력한다.\n",
    "#### numbers 리스트의 원소들 중 홀수는 모두 제거한다. 그 후 다시 리스트를 출력한다.\n",
    "#### numbers 리스트의 인덱스 0 자리에 20이라는 수를 삽입한 후 출력한다.\n",
    "#### numbers 리스트를 정렬한 후 출력한다."
   ]
  },
  {
   "cell_type": "code",
   "execution_count": 31,
   "id": "d55e6b4b-9fd5-46d1-9372-d5eb4b213ca6",
   "metadata": {},
   "outputs": [
    {
     "name": "stdout",
     "output_type": "stream",
     "text": [
      "[]\n",
      "[1, 7, 3, 6, 5, 2, 13, 14]\n",
      "[6, 2, 14]\n",
      "[20, 6, 2, 14]\n",
      "[2, 6, 14, 20]\n"
     ]
    }
   ],
   "source": [
    "numbers = []\n",
    "print(numbers)\n",
    "\n",
    "numbers.append(1)\n",
    "numbers.append(7)\n",
    "numbers.append(3)\n",
    "numbers.append(6)\n",
    "numbers.append(5)\n",
    "numbers.append(2)\n",
    "numbers.append(13)\n",
    "numbers.append(14)\n",
    "print(numbers)\n",
    "\n",
    "numbers = [1, 7, 3, 6, 5, 2, 13, 14] \n",
    "i = 0\n",
    "while i < len(numbers):\n",
    "    if numbers[i] % 2 == 1:\n",
    "        del numbers[i]\n",
    "    else:\n",
    "        i += 1\n",
    "        \n",
    "print(numbers)\n",
    "\n",
    "numbers.insert(0, 20)\n",
    "print(numbers)\n",
    "\n",
    "numbers.sort()\n",
    "print(numbers)"
   ]
  },
  {
   "cell_type": "markdown",
   "id": "9eefd5b3-0b0a-4b79-8ffa-aed1fd1926e3",
   "metadata": {},
   "source": [
    "# 06. 리스트 꿀팁 \n",
    "\n",
    "### 리스트에서의 값의 존재 확인하기 "
   ]
  },
  {
   "cell_type": "code",
   "execution_count": 33,
   "id": "1cf16910-7a12-478b-89db-6d7a12d49588",
   "metadata": {},
   "outputs": [
    {
     "name": "stdout",
     "output_type": "stream",
     "text": [
      "True\n",
      "False\n"
     ]
    }
   ],
   "source": [
    "primes = [2, 3, 5, 7, 11, 13, 17, 19, 23]\n",
    "print(7 in primes)\n",
    "print(12 in primes)"
   ]
  },
  {
   "cell_type": "code",
   "execution_count": 34,
   "id": "16ca0ee3-fa01-46ce-9886-021507dd8096",
   "metadata": {},
   "outputs": [
    {
     "name": "stdout",
     "output_type": "stream",
     "text": [
      "False\n",
      "True\n"
     ]
    }
   ],
   "source": [
    "primes = [2, 3, 5, 7, 11, 13, 17, 19, 23]\n",
    "print(7 not in primes)\n",
    "print(12 not in primes)"
   ]
  },
  {
   "cell_type": "markdown",
   "id": "b90a96fa-8cf2-4dd3-8e22-c7cb3bf2fad7",
   "metadata": {},
   "source": [
    "### 리스트 안의 리스트 (Nested List) \n",
    "#### 리스트 안에는 또 다른 리스트가 있을 수 있습니다. 이를 영어로 nested list라고 부릅니다."
   ]
  },
  {
   "cell_type": "code",
   "execution_count": 37,
   "id": "6a0e8b02-92ad-42b0-a2ec-1510c737f86f",
   "metadata": {},
   "outputs": [
    {
     "name": "stdout",
     "output_type": "stream",
     "text": [
      "[62, 75, 77]\n",
      "[85, 91, 89]\n",
      "62\n",
      "91\n",
      "75.0\n"
     ]
    }
   ],
   "source": [
    "# 세 번의 시험을 보는 수업\n",
    "grades = [[62, 75, 77], [78, 81, 86], [85, 91, 89]]\n",
    "\n",
    "# 첫 번째 학생의 성적\n",
    "print(grades[0])\n",
    "\n",
    "# 세 번째 학생의 성적\n",
    "print(grades[2])\n",
    "\n",
    "# 첫 번째 학생의 첫 번째 시험 성적\n",
    "print(grades[0][0])\n",
    "\n",
    "# 세 번째 학생의 두 번째 시험 성적\n",
    "print(grades[2][1])\n",
    "\n",
    "# 첫 번째 시험의 평균\n",
    "print((grades[0][0] + grades[1][0] + grades[2][0]) / 3)"
   ]
  },
  {
   "cell_type": "markdown",
   "id": "0d731ecf-a8c3-4749-94b6-b0901785f017",
   "metadata": {},
   "source": [
    "### index 메소드\n",
    "#### some_list.index(x)는some_list에서 x의 값을 갖고 있는 원소의 인덱스를 리턴해줍니다."
   ]
  },
  {
   "cell_type": "code",
   "execution_count": 38,
   "id": "0fc6be65-a940-4173-add9-66fc9a4cb97f",
   "metadata": {},
   "outputs": [
    {
     "name": "stdout",
     "output_type": "stream",
     "text": [
      "1\n",
      "2\n"
     ]
    }
   ],
   "source": [
    "members = [\"영훈\", \"윤수\", \"태호\", \"혜린\"]\n",
    "print(members.index(\"윤수\"))\n",
    "print(members.index(\"태호\"))"
   ]
  },
  {
   "cell_type": "markdown",
   "id": "c5655eff-7fa8-4064-a2cc-3d281beda3bc",
   "metadata": {},
   "source": [
    "### remove 메소드\n",
    "#### some_list.remove(x)는some_list에서 첫 번째로 x의 값을 갖고 있는 원소를 삭제해줍니다."
   ]
  },
  {
   "cell_type": "code",
   "execution_count": 39,
   "id": "5a084941-83b4-47e3-95bd-4770e4278da0",
   "metadata": {},
   "outputs": [
    {
     "name": "stdout",
     "output_type": "stream",
     "text": [
      "['딸기', '당근', '수박', '참외', '메론']\n"
     ]
    }
   ],
   "source": [
    "fruits = [\"딸기\", \"당근\", \"파인애플\", \"수박\", \"참외\", \"메론\"]\n",
    "fruits.remove(\"파인애플\")\n",
    "print(fruits)"
   ]
  },
  {
   "cell_type": "markdown",
   "id": "18321ff5-7083-4de2-a784-a98e680af3b2",
   "metadata": {},
   "source": [
    "# 07. for 반복문 (while문 vs for문 : 상황에 따라 더 좋은 걸 판단)"
   ]
  },
  {
   "cell_type": "code",
   "execution_count": 1,
   "id": "7d25a700-b132-4945-ae2f-93a86b6b621f",
   "metadata": {},
   "outputs": [
    {
     "name": "stdout",
     "output_type": "stream",
     "text": [
      "2\n",
      "3\n",
      "5\n",
      "7\n",
      "11\n"
     ]
    }
   ],
   "source": [
    "my_list = [2, 3, 5, 7, 11]\n",
    "\n",
    "for number in my_list:\n",
    "    print(number)"
   ]
  },
  {
   "attachments": {
    "afa28af2-df1b-4cdf-8704-1b57ad26200d.png": {
     "image/png": "[encoded data removed]"
    }
   },
   "cell_type": "markdown",
   "id": "834b7d38-f671-4566-a340-cf3ea7f4439b",
   "metadata": {},
   "source": [
    "![image.png](attachment:afa28af2-df1b-4cdf-8704-1b57ad26200d.png)"
   ]
  },
  {
   "cell_type": "markdown",
   "id": "721985f8-9f48-4a03-a898-ad18d8b8057c",
   "metadata": {},
   "source": [
    "# 08. range 함수 "
   ]
  },
  {
   "cell_type": "markdown",
   "id": "ad694b45-e8bf-404e-b8dd-bb8afc24dd80",
   "metadata": {},
   "source": [
    "### 파라미터 2개 버전\n",
    "#### for i in range(start, stop):\n",
    "#### print(i)  \n",
    "#### → start 부터 stop -1 까지의 범위 "
   ]
  },
  {
   "cell_type": "code",
   "execution_count": 3,
   "id": "6660d1e0-9a99-47ab-b951-12ba85fa4d09",
   "metadata": {
    "scrolled": true
   },
   "outputs": [
    {
     "name": "stdout",
     "output_type": "stream",
     "text": [
      "3\n",
      "4\n",
      "5\n",
      "6\n",
      "7\n",
      "8\n",
      "9\n",
      "10\n"
     ]
    }
   ],
   "source": [
    "for i in range(3,11):\n",
    "    print(i)"
   ]
  },
  {
   "cell_type": "markdown",
   "id": "3a44e93f-e85a-4261-ac08-e5b9d2c6d6d1",
   "metadata": {},
   "source": [
    "### 파라미터 1개 버전 \n",
    "#### for i in range(stop):\n",
    "#### print(i) \n",
    "#### → 0부터 stop-1까지의 범위 "
   ]
  },
  {
   "cell_type": "code",
   "execution_count": 4,
   "id": "a8356eba-3bc3-44aa-82f8-c7ebe8e2416c",
   "metadata": {
    "scrolled": true
   },
   "outputs": [
    {
     "name": "stdout",
     "output_type": "stream",
     "text": [
      "0\n",
      "1\n",
      "2\n",
      "3\n",
      "4\n",
      "5\n",
      "6\n",
      "7\n",
      "8\n",
      "9\n"
     ]
    }
   ],
   "source": [
    "for i in range(10): \n",
    "    print(i)"
   ]
  },
  {
   "cell_type": "markdown",
   "id": "6fafca40-419f-4c15-b0e9-de9ccffbd2dc",
   "metadata": {},
   "source": [
    "### 파라미터 3개 버전\n",
    "#### for i in range(start, stop, step):\n",
    "#### print(i)\n",
    "#### → start부터 stop-1까지의 범위, 간격 step "
   ]
  },
  {
   "cell_type": "code",
   "execution_count": 11,
   "id": "5e63620f-2baf-4610-9089-36dc9108ec8f",
   "metadata": {
    "scrolled": true
   },
   "outputs": [
    {
     "name": "stdout",
     "output_type": "stream",
     "text": [
      "3\n",
      "6\n",
      "9\n",
      "12\n",
      "15\n"
     ]
    }
   ],
   "source": [
    "for i in range(3,17,3):\n",
    "    print(i)\n"
   ]
  },
  {
   "cell_type": "markdown",
   "id": "f56a8916-0c07-44f4-a5ef-caf09e38bd2d",
   "metadata": {},
   "source": [
    "# 09. (실습) range 연습 "
   ]
  },
  {
   "cell_type": "markdown",
   "id": "ec71ffb9-d6d3-4eae-b284-8b1cb9f28b54",
   "metadata": {},
   "source": [
    "### 실습 설명\n",
    "#### numbers라는 리스트가 주어졌습니다.\n",
    "\n",
    "#### for문과 range 함수를 사용하여, numbers의 인덱스와 원소를 출력해 보세요."
   ]
  },
  {
   "cell_type": "code",
   "execution_count": 12,
   "id": "7a8ccb93-1e92-4eb8-aace-b7283c4bce8d",
   "metadata": {
    "scrolled": true
   },
   "outputs": [
    {
     "name": "stdout",
     "output_type": "stream",
     "text": [
      "0 2\n",
      "1 3\n",
      "2 5\n",
      "3 7\n",
      "4 11\n",
      "5 13\n",
      "6 17\n",
      "7 19\n",
      "8 23\n",
      "9 29\n",
      "10 31\n"
     ]
    }
   ],
   "source": [
    "numbers = [2, 3, 5, 7, 11, 13, 17, 19, 23, 29, 31]\n",
    "\n",
    "for i in range(len(numbers)):\n",
    "    print(i, numbers[i])"
   ]
  },
  {
   "cell_type": "markdown",
   "id": "924fda9f-0146-4deb-aebf-df352b3a03a7",
   "metadata": {},
   "source": [
    "# 10. (실습) for문으로 구구단"
   ]
  },
  {
   "cell_type": "markdown",
   "id": "14a3224c-659d-4559-875f-1e1a125bca6a",
   "metadata": {},
   "source": [
    "### 실습 설명\n",
    "#### 구구단 프로그램을 while문이 아닌 for문을 사용해서 만들어 보세요."
   ]
  },
  {
   "cell_type": "code",
   "execution_count": 4,
   "id": "53a8b93c-a5cd-44f8-865a-24db74365081",
   "metadata": {
    "collapsed": true,
    "jupyter": {
     "outputs_hidden": true
    },
    "scrolled": true
   },
   "outputs": [
    {
     "name": "stdout",
     "output_type": "stream",
     "text": [
      "1 * 1 = 1\n",
      "1 * 2 = 2\n",
      "1 * 3 = 3\n",
      "1 * 4 = 4\n",
      "1 * 5 = 5\n",
      "1 * 6 = 6\n",
      "1 * 7 = 7\n",
      "1 * 8 = 8\n",
      "1 * 9 = 9\n",
      "2 * 1 = 2\n",
      "2 * 2 = 4\n",
      "2 * 3 = 6\n",
      "2 * 4 = 8\n",
      "2 * 5 = 10\n",
      "2 * 6 = 12\n",
      "2 * 7 = 14\n",
      "2 * 8 = 16\n",
      "2 * 9 = 18\n",
      "3 * 1 = 3\n",
      "3 * 2 = 6\n",
      "3 * 3 = 9\n",
      "3 * 4 = 12\n",
      "3 * 5 = 15\n",
      "3 * 6 = 18\n",
      "3 * 7 = 21\n",
      "3 * 8 = 24\n",
      "3 * 9 = 27\n",
      "4 * 1 = 4\n",
      "4 * 2 = 8\n",
      "4 * 3 = 12\n",
      "4 * 4 = 16\n",
      "4 * 5 = 20\n",
      "4 * 6 = 24\n",
      "4 * 7 = 28\n",
      "4 * 8 = 32\n",
      "4 * 9 = 36\n",
      "5 * 1 = 5\n",
      "5 * 2 = 10\n",
      "5 * 3 = 15\n",
      "5 * 4 = 20\n",
      "5 * 5 = 25\n",
      "5 * 6 = 30\n",
      "5 * 7 = 35\n",
      "5 * 8 = 40\n",
      "5 * 9 = 45\n",
      "6 * 1 = 6\n",
      "6 * 2 = 12\n",
      "6 * 3 = 18\n",
      "6 * 4 = 24\n",
      "6 * 5 = 30\n",
      "6 * 6 = 36\n",
      "6 * 7 = 42\n",
      "6 * 8 = 48\n",
      "6 * 9 = 54\n",
      "7 * 1 = 7\n",
      "7 * 2 = 14\n",
      "7 * 3 = 21\n",
      "7 * 4 = 28\n",
      "7 * 5 = 35\n",
      "7 * 6 = 42\n",
      "7 * 7 = 49\n",
      "7 * 8 = 56\n",
      "7 * 9 = 63\n",
      "8 * 1 = 8\n",
      "8 * 2 = 16\n",
      "8 * 3 = 24\n",
      "8 * 4 = 32\n",
      "8 * 5 = 40\n",
      "8 * 6 = 48\n",
      "8 * 7 = 56\n",
      "8 * 8 = 64\n",
      "8 * 9 = 72\n",
      "9 * 1 = 9\n",
      "9 * 2 = 18\n",
      "9 * 3 = 27\n",
      "9 * 4 = 36\n",
      "9 * 5 = 45\n",
      "9 * 6 = 54\n",
      "9 * 7 = 63\n",
      "9 * 8 = 72\n",
      "9 * 9 = 81\n"
     ]
    }
   ],
   "source": [
    "for i in range(1, 10):\n",
    "    for j in range(1, 10):\n",
    "        print(\"{} * {} = {}\".format(i, j, i * j))"
   ]
  },
  {
   "cell_type": "markdown",
   "id": "63c2f531-1a03-4155-bc42-581310f36532",
   "metadata": {},
   "source": [
    "# 11. 사전 (dictionary) (key-value pair)"
   ]
  },
  {
   "cell_type": "code",
   "execution_count": 22,
   "id": "2c5e68c7-3f06-47f9-98e5-10e3413ece6e",
   "metadata": {},
   "outputs": [
    {
     "name": "stdout",
     "output_type": "stream",
     "text": [
      "<class 'dict'>\n",
      "2 + 5\n",
      "{'세범': '2 + 5', 2: 4, 3: 9, 12: 144}\n"
     ]
    }
   ],
   "source": [
    "my_dictionary = {\n",
    "    '세범': '2 + 5',\n",
    "    2: 4,\n",
    "    3: 9\n",
    "}\n",
    "print(type(my_dictionary))\n",
    "print(my_dictionary['세범'])\n",
    "my_dictionary[12] = 144 # 사전에 새로운 쌍 추가하기 \n",
    "print(my_dictionary) "
   ]
  },
  {
   "cell_type": "markdown",
   "id": "4eb4c608-623d-4f51-baff-061c90a1610e",
   "metadata": {},
   "source": [
    "# 12. 사전활용법 "
   ]
  },
  {
   "cell_type": "markdown",
   "id": "1cc62074-da07-489e-b323-a45e74c029c9",
   "metadata": {},
   "source": [
    "### 사전에 어떤 값들이 있는지 목록이 필요할 때 "
   ]
  },
  {
   "cell_type": "code",
   "execution_count": 40,
   "id": "5c3c7017-772e-40c9-9a8d-2afde046f43d",
   "metadata": {},
   "outputs": [
    {
     "name": "stdout",
     "output_type": "stream",
     "text": [
      "dict_values(['25', 4, 9])\n",
      "True\n",
      "dict_keys(['세범', 2, 3])\n",
      "25\n",
      "4\n",
      "9\n",
      "세범 25\n",
      "2 4\n",
      "3 9\n",
      "세범 25\n",
      "2 4\n",
      "3 9\n"
     ]
    }
   ],
   "source": [
    "my_dictionary = {\n",
    "    '세범': '25',\n",
    "    2: 4,\n",
    "    3: 9\n",
    "}\n",
    "\n",
    "print(my_dictionary.values())\n",
    "print('25' in my_dictionary.values())\n",
    "print(my_dictionary.keys())\n",
    "\n",
    "for value in my_dictionary.values():\n",
    "    print(value)\n",
    "\n",
    "for key in my_dictionary.keys():\n",
    "    value = my_dictionary[key]\n",
    "    print(key, value)\n",
    "\n",
    "for key, value in my_dictionary.items():\n",
    "    print(key, value)"
   ]
  },
  {
   "cell_type": "markdown",
   "id": "810530db-4441-4d03-a4d2-6228bda0d6ae",
   "metadata": {},
   "source": [
    "# 13. 투표 집계하기 "
   ]
  },
  {
   "cell_type": "markdown",
   "id": "6cc28516-8c3d-4d8a-9e0f-8142961bc0dd",
   "metadata": {},
   "source": [
    "### 실습 설명 \n",
    "#### 효신이는 매년 국회의원 선거 때마다, 성북구에서 집계 도우미 봉사를 하는데요. 작년까지는 표를 손수 세다가, 올해부터는 IT 시대에 더 적합한 솔루션을 개발하려고 합니다.\n",
    "\n",
    "#### 파이썬 리스트 votes에는 성북구민들의 투표 결과가 저장되어 있습니다. 리스트 votes의 정보를 토대로, 사전 vote_counter에 후보별 득표수를 정리하는 것이 목표입니다.\n",
    "\n",
    "#### 예를 들어서 votes가 ['허유나', '서혜선', '허유나']라고 가정하면, vote_counter는 {'허유나': 2, '서혜선': 1}이 되어야 하는 거죠."
   ]
  },
  {
   "cell_type": "code",
   "execution_count": 41,
   "id": "20b37a88-90a3-49dc-a697-78b84c6117f6",
   "metadata": {},
   "outputs": [
    {
     "name": "stdout",
     "output_type": "stream",
     "text": [
      "{'김영자': 11, '강승기': 6, '최만수': 8}\n"
     ]
    }
   ],
   "source": [
    "# 투표 결과 리스트\n",
    "votes = ['김영자', '강승기', '최만수', '김영자', '강승기', '강승기', '최만수', '김영자', \\\n",
    "'최만수', '김영자', '최만수', '김영자', '김영자', '최만수', '최만수', '최만수', '강승기', \\\n",
    "'강승기', '김영자', '김영자', '최만수', '김영자', '김영자', '강승기', '김영자']\n",
    "\n",
    "# 후보별 득표수 사전\n",
    "vote_counter = {}\n",
    "\n",
    "# 리스트 votes를 이용해서 사전 vote_counter를 정리하기\n",
    "for name in votes:\n",
    "    if name not in vote_counter:\n",
    "        vote_counter[name] = 1\n",
    "    else:\n",
    "        vote_counter[name] += 1\n",
    "\n",
    "# 후보별 득표수 출력\n",
    "print(vote_counter)\n",
    "\n"
   ]
  },
  {
   "cell_type": "code",
   "execution_count": null,
   "id": "a161817c-91f0-40b9-9ec3-a348d23bc8f4",
   "metadata": {},
   "outputs": [],
   "source": []
  }
 ],
 "metadata": {
  "kernelspec": {
   "display_name": "Python [conda env:base] *",
   "language": "python",
   "name": "conda-base-py"
  },
  "language_info": {
   "codemirror_mode": {
    "name": "ipython",
    "version": 3
   },
   "file_extension": ".py",
   "mimetype": "text/x-python",
   "name": "python",
   "nbconvert_exporter": "python",
   "pygments_lexer": "ipython3",
   "version": "3.12.7"
  }
 },
 "nbformat": 4,
 "nbformat_minor": 5
}
