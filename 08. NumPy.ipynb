{
 "cells": [
  {
   "cell_type": "markdown",
   "id": "f3ed795d-24a8-4503-b1c8-c51e491f2d2e",
   "metadata": {},
   "source": [
    "# 01. NumPy란? (Numerical Python: 수치적인 연산에 최적화된 파이썬 도구) "
   ]
  },
  {
   "cell_type": "markdown",
   "id": "0c19883d-9f57-455c-b235-7c3b9f0c5838",
   "metadata": {},
   "source": [
    "# 02. NumPy와 array "
   ]
  },
  {
   "cell_type": "code",
   "execution_count": 3,
   "id": "6e8ec029-9bd1-453f-abb8-efe01ad5047f",
   "metadata": {},
   "outputs": [],
   "source": [
    "import numpy as np"
   ]
  },
  {
   "cell_type": "code",
   "execution_count": 4,
   "id": "1d8b9ee6-7600-4db9-86c7-beab4982c8e1",
   "metadata": {},
   "outputs": [
    {
     "data": {
      "text/plain": [
       "array([1, 3, 5, 6, 7, 9])"
      ]
     },
     "execution_count": 4,
     "metadata": {},
     "output_type": "execute_result"
    }
   ],
   "source": [
    "array1 = np.array([1,3,5,6,7,9])\n",
    "array1"
   ]
  },
  {
   "cell_type": "code",
   "execution_count": 5,
   "id": "72117afb-3a87-4c86-8065-fa669f02d6fe",
   "metadata": {},
   "outputs": [
    {
     "data": {
      "text/plain": [
       "array([0., 0., 0., 0., 0.])"
      ]
     },
     "execution_count": 5,
     "metadata": {},
     "output_type": "execute_result"
    }
   ],
   "source": [
    "np.zeros(5)"
   ]
  },
  {
   "cell_type": "code",
   "execution_count": 6,
   "id": "2a456b6e-5fc2-4e98-afd8-a63ae44a7a87",
   "metadata": {},
   "outputs": [
    {
     "data": {
      "text/plain": [
       "array([0, 1, 2, 3, 4, 5, 6, 7, 8, 9])"
      ]
     },
     "execution_count": 6,
     "metadata": {},
     "output_type": "execute_result"
    }
   ],
   "source": [
    "np.arange(10)"
   ]
  },
  {
   "cell_type": "code",
   "execution_count": 7,
   "id": "31abe1e5-0aff-4b98-92ac-b65cc1d95e7b",
   "metadata": {},
   "outputs": [
    {
     "data": {
      "text/plain": [
       "array([2, 3, 4, 5, 6, 7, 8, 9])"
      ]
     },
     "execution_count": 7,
     "metadata": {},
     "output_type": "execute_result"
    }
   ],
   "source": [
    "np.arange(2,10)"
   ]
  },
  {
   "cell_type": "code",
   "execution_count": 8,
   "id": "64750fe1-359a-4938-99ab-f583cb5b3725",
   "metadata": {},
   "outputs": [
    {
     "data": {
      "text/plain": [
       "array([ 4,  7, 10, 13, 16])"
      ]
     },
     "execution_count": 8,
     "metadata": {},
     "output_type": "execute_result"
    }
   ],
   "source": [
    "np.arange(4, 17, 3)"
   ]
  },
  {
   "cell_type": "code",
   "execution_count": 9,
   "id": "83605d08-cd42-4425-96c4-7764a210ee85",
   "metadata": {},
   "outputs": [
    {
     "data": {
      "text/plain": [
       "numpy.ndarray"
      ]
     },
     "execution_count": 9,
     "metadata": {},
     "output_type": "execute_result"
    }
   ],
   "source": [
    "type(array1)"
   ]
  },
  {
   "cell_type": "code",
   "execution_count": 10,
   "id": "ba8f87e7-a602-4579-b6ee-006ab1b05ad2",
   "metadata": {},
   "outputs": [
    {
     "data": {
      "text/plain": [
       "array([[ 1,  2,  3,  4],\n",
       "       [ 5,  6,  7,  8],\n",
       "       [ 9, 10, 11, 12]])"
      ]
     },
     "execution_count": 10,
     "metadata": {},
     "output_type": "execute_result"
    }
   ],
   "source": [
    "array2 = np.array([[1,2,3,4], [5,6,7,8], [9,10,11,12]])\n",
    "array2"
   ]
  },
  {
   "cell_type": "code",
   "execution_count": 11,
   "id": "9d435fc8-5421-4bef-b86e-25519a5d69b3",
   "metadata": {},
   "outputs": [
    {
     "data": {
      "text/plain": [
       "6"
      ]
     },
     "execution_count": 11,
     "metadata": {},
     "output_type": "execute_result"
    }
   ],
   "source": [
    "array1.size"
   ]
  },
  {
   "cell_type": "code",
   "execution_count": 12,
   "id": "1513da14-764f-44c6-b35d-0b6832a3a879",
   "metadata": {},
   "outputs": [
    {
     "data": {
      "text/plain": [
       "12"
      ]
     },
     "execution_count": 12,
     "metadata": {},
     "output_type": "execute_result"
    }
   ],
   "source": [
    "array2.size"
   ]
  },
  {
   "cell_type": "code",
   "execution_count": 13,
   "id": "e78edab3-10b5-423c-ac43-136fe890e612",
   "metadata": {},
   "outputs": [
    {
     "data": {
      "text/plain": [
       "(3, 4)"
      ]
     },
     "execution_count": 13,
     "metadata": {},
     "output_type": "execute_result"
    }
   ],
   "source": [
    "array2.shape"
   ]
  },
  {
   "cell_type": "code",
   "execution_count": 14,
   "id": "61488617-8f89-41d5-880f-58a45c0c4a37",
   "metadata": {},
   "outputs": [
    {
     "data": {
      "text/plain": [
       "(6,)"
      ]
     },
     "execution_count": 14,
     "metadata": {},
     "output_type": "execute_result"
    }
   ],
   "source": [
    "array1.shape"
   ]
  },
  {
   "cell_type": "markdown",
   "id": "1a0d7912-b26c-4a66-80be-3c77518745b2",
   "metadata": {},
   "source": [
    "# 03. 인덱싱과 슬라이싱: 1차원 array "
   ]
  },
  {
   "cell_type": "code",
   "execution_count": 16,
   "id": "23f7bc23-3dc1-486f-a0c7-9e64e10fac93",
   "metadata": {},
   "outputs": [],
   "source": [
    "gdp_array = np.array([6610, 7637, 8127, 8885, 10385, 12565, 13403, 12398, 8282, 10672]) "
   ]
  },
  {
   "cell_type": "code",
   "execution_count": 17,
   "id": "b404f1c9-8540-455a-9594-db18ab254440",
   "metadata": {},
   "outputs": [
    {
     "data": {
      "text/plain": [
       "6610"
      ]
     },
     "execution_count": 17,
     "metadata": {},
     "output_type": "execute_result"
    }
   ],
   "source": [
    "gdp_array[0]"
   ]
  },
  {
   "cell_type": "code",
   "execution_count": 18,
   "id": "9a4b9add-1899-47fc-89c1-a88bbb2aea5e",
   "metadata": {},
   "outputs": [
    {
     "data": {
      "text/plain": [
       "8127"
      ]
     },
     "execution_count": 18,
     "metadata": {},
     "output_type": "execute_result"
    }
   ],
   "source": [
    "gdp_array[2]"
   ]
  },
  {
   "cell_type": "code",
   "execution_count": 19,
   "id": "c50e4649-1e25-4c85-a73e-06f8f226139e",
   "metadata": {},
   "outputs": [
    {
     "data": {
      "text/plain": [
       "10672"
      ]
     },
     "execution_count": 19,
     "metadata": {},
     "output_type": "execute_result"
    }
   ],
   "source": [
    "gdp_array[-1]"
   ]
  },
  {
   "cell_type": "code",
   "execution_count": 20,
   "id": "13d5a2f3-d1e5-444b-a6fb-01711c83ee99",
   "metadata": {},
   "outputs": [
    {
     "data": {
      "text/plain": [
       "8282"
      ]
     },
     "execution_count": 20,
     "metadata": {},
     "output_type": "execute_result"
    }
   ],
   "source": [
    "gdp_array[-2]"
   ]
  },
  {
   "cell_type": "code",
   "execution_count": 21,
   "id": "569ee7a6-1dff-44ec-8094-e6832434f90b",
   "metadata": {},
   "outputs": [
    {
     "data": {
      "text/plain": [
       "array([ 7637,  8885, 10385])"
      ]
     },
     "execution_count": 21,
     "metadata": {},
     "output_type": "execute_result"
    }
   ],
   "source": [
    "gdp_array[[1,3,4]]"
   ]
  },
  {
   "cell_type": "code",
   "execution_count": 22,
   "id": "21ae3ae1-2919-406a-bff5-9a5a46116333",
   "metadata": {},
   "outputs": [
    {
     "data": {
      "text/plain": [
       "array([ 8127,  7637,  8885, 12565])"
      ]
     },
     "execution_count": 22,
     "metadata": {},
     "output_type": "execute_result"
    }
   ],
   "source": [
    "array1 = np.array([2, 1, 3, 5])\n",
    "gdp_array[array1]"
   ]
  },
  {
   "cell_type": "code",
   "execution_count": 23,
   "id": "afbb8413-25ef-4d60-add6-63f3358ace74",
   "metadata": {},
   "outputs": [
    {
     "data": {
      "text/plain": [
       "array([ 8127,  8885, 10385, 12565])"
      ]
     },
     "execution_count": 23,
     "metadata": {},
     "output_type": "execute_result"
    }
   ],
   "source": [
    "gdp_array[2:6]"
   ]
  },
  {
   "cell_type": "code",
   "execution_count": 24,
   "id": "5e4eceb6-735a-4b72-aa9c-29d3dfa04a50",
   "metadata": {},
   "outputs": [
    {
     "data": {
      "text/plain": [
       "array([ 6610,  7637,  8127,  8885, 10385, 12565])"
      ]
     },
     "execution_count": 24,
     "metadata": {},
     "output_type": "execute_result"
    }
   ],
   "source": [
    "gdp_array[:6]"
   ]
  },
  {
   "cell_type": "code",
   "execution_count": 25,
   "id": "2d1de9fa-873f-4094-b86d-fe0f91f51359",
   "metadata": {},
   "outputs": [
    {
     "data": {
      "text/plain": [
       "array([12565, 13403, 12398,  8282, 10672])"
      ]
     },
     "execution_count": 25,
     "metadata": {},
     "output_type": "execute_result"
    }
   ],
   "source": [
    "gdp_array[5:]"
   ]
  },
  {
   "cell_type": "code",
   "execution_count": 26,
   "id": "6b6740ec-a67b-4328-844a-876e63698b93",
   "metadata": {},
   "outputs": [
    {
     "data": {
      "text/plain": [
       "array([ 7637, 10385, 12398])"
      ]
     },
     "execution_count": 26,
     "metadata": {},
     "output_type": "execute_result"
    }
   ],
   "source": [
    "gdp_array[1:8:3]"
   ]
  },
  {
   "cell_type": "markdown",
   "id": "c763ce71-9baf-4e9f-86b8-6a2aea8c152a",
   "metadata": {},
   "source": [
    "# 04. (실습) 비트코인 가격 정보 탐색하기 1"
   ]
  },
  {
   "cell_type": "markdown",
   "id": "e4412f5d-a779-45fa-8bdb-0de50b7e9350",
   "metadata": {},
   "source": [
    "### 실습 설명 \n",
    "#### bitcoin_array에는 비트코인 투자 열풍이 불었던 2017년의 월별 비트코인 가격이 들어있습니다. 여기서 3분기(7월~9월)의 비트코인 가격만 가져와 보세요."
   ]
  },
  {
   "cell_type": "code",
   "execution_count": 29,
   "id": "89199442-4282-4002-9c77-41802e92edcc",
   "metadata": {},
   "outputs": [
    {
     "data": {
      "text/plain": [
       "array([2875, 4703, 4339])"
      ]
     },
     "execution_count": 29,
     "metadata": {},
     "output_type": "execute_result"
    }
   ],
   "source": [
    "import numpy as np\n",
    "\n",
    "bitcoin_array = np.array([970, 1180, 1072, 1348, 2286, 2481,\n",
    "                          2875, 4703, 4339, 6468, 10234, 14156])\n",
    "\n",
    "bitcoin_array[6:9]"
   ]
  },
  {
   "cell_type": "markdown",
   "id": "6800ba40-5641-451a-8c9d-9a09c0d942c9",
   "metadata": {},
   "source": [
    "# 05. 인덱싱과 슬라이싱 : 2차원 array "
   ]
  },
  {
   "cell_type": "code",
   "execution_count": 31,
   "id": "a8fe5fec-c731-41ee-8673-3493ddb064e6",
   "metadata": {},
   "outputs": [
    {
     "data": {
      "text/plain": [
       "array([[12257, 11561, 13165, 14673, 16496, 19403],\n",
       "       [39169, 34406, 32821, 35387, 38299, 37813],\n",
       "       [  959,  1053,  1149,  1289,  1509,  1753],\n",
       "       [36335, 37133, 38023, 39496, 41713, 44115]])"
      ]
     },
     "execution_count": 31,
     "metadata": {},
     "output_type": "execute_result"
    }
   ],
   "source": [
    "gdp_array = np.array([\n",
    "    [12257, 11561, 13165, 14673, 16496, 19403],  # 대한민국\n",
    "    [39169, 34406, 32821, 35387, 38299, 37813],  # 일본\n",
    "    [959, 1053, 1149, 1289, 1509, 1753],         # 중국\n",
    "    [36335, 37133, 38023, 39496, 41713, 44115]   # 미국\n",
    "])\n",
    "gdp_array"
   ]
  },
  {
   "cell_type": "code",
   "execution_count": 32,
   "id": "799c75b1-a5de-4a22-b799-0624696b533a",
   "metadata": {},
   "outputs": [
    {
     "data": {
      "text/plain": [
       "array([39169, 34406, 32821, 35387, 38299, 37813])"
      ]
     },
     "execution_count": 32,
     "metadata": {},
     "output_type": "execute_result"
    }
   ],
   "source": [
    "gdp_array[1]"
   ]
  },
  {
   "cell_type": "code",
   "execution_count": 33,
   "id": "b6a0babf-f238-4be6-b487-e58679c1bffc",
   "metadata": {},
   "outputs": [
    {
     "data": {
      "text/plain": [
       "35387"
      ]
     },
     "execution_count": 33,
     "metadata": {},
     "output_type": "execute_result"
    }
   ],
   "source": [
    "gdp_array[1][3]"
   ]
  },
  {
   "cell_type": "code",
   "execution_count": 34,
   "id": "78251cf0-e248-4e29-8fc8-80787740a60c",
   "metadata": {},
   "outputs": [
    {
     "data": {
      "text/plain": [
       "array([[32821, 35387, 38299],\n",
       "       [ 1149,  1289,  1509]])"
      ]
     },
     "execution_count": 34,
     "metadata": {},
     "output_type": "execute_result"
    }
   ],
   "source": [
    "gdp_array[1:3, 2:5]"
   ]
  },
  {
   "cell_type": "code",
   "execution_count": 35,
   "id": "392bc192-0664-4c80-8e0b-ceae95701648",
   "metadata": {},
   "outputs": [
    {
     "data": {
      "text/plain": [
       "array([[32821, 35387, 38299, 37813],\n",
       "       [ 1149,  1289,  1509,  1753]])"
      ]
     },
     "execution_count": 35,
     "metadata": {},
     "output_type": "execute_result"
    }
   ],
   "source": [
    "gdp_array[1:3, 2:]"
   ]
  },
  {
   "cell_type": "code",
   "execution_count": 36,
   "id": "4bed113e-82db-46d2-847a-1f4d4b6c91ea",
   "metadata": {},
   "outputs": [
    {
     "data": {
      "text/plain": [
       "array([[13165, 14673, 16496],\n",
       "       [32821, 35387, 38299],\n",
       "       [ 1149,  1289,  1509]])"
      ]
     },
     "execution_count": 36,
     "metadata": {},
     "output_type": "execute_result"
    }
   ],
   "source": [
    "gdp_array[:3, 2:5]"
   ]
  },
  {
   "cell_type": "code",
   "execution_count": 37,
   "id": "c9c9052a-eb68-4035-9bad-036f4cf35af9",
   "metadata": {},
   "outputs": [
    {
     "data": {
      "text/plain": [
       "array([[13165, 14673, 16496],\n",
       "       [32821, 35387, 38299],\n",
       "       [ 1149,  1289,  1509],\n",
       "       [38023, 39496, 41713]])"
      ]
     },
     "execution_count": 37,
     "metadata": {},
     "output_type": "execute_result"
    }
   ],
   "source": [
    "gdp_array[:, 2:5]"
   ]
  },
  {
   "cell_type": "code",
   "execution_count": 38,
   "id": "185e17a5-d0fb-42ce-a123-ee6d11afccd8",
   "metadata": {},
   "outputs": [
    {
     "data": {
      "text/plain": [
       "array([[39169, 34406, 32821, 35387, 38299, 37813],\n",
       "       [  959,  1053,  1149,  1289,  1509,  1753]])"
      ]
     },
     "execution_count": 38,
     "metadata": {},
     "output_type": "execute_result"
    }
   ],
   "source": [
    "gdp_array[1:3, :]"
   ]
  },
  {
   "cell_type": "markdown",
   "id": "f98d23f4-7102-4757-82cf-46248e028615",
   "metadata": {},
   "source": [
    "# 06. 비트코인 가격 정보 탐색하기 2 "
   ]
  },
  {
   "cell_type": "markdown",
   "id": "ba19fc0a-bc03-446e-887f-c2227e77b5ae",
   "metadata": {},
   "source": [
    "### 실습 설명\n",
    "#### 이번에 실습에서 살펴볼 bitcoin_array는 2017년 월별 비트코인 가격과 거래량 정보가 들어 있는 2차원 array입니다. 첫 번째 로우에는 가격 정보, 두 번째 로우에는 거래량(천만 기준) 정보가 들어 있죠. 여기서 7월의 비트코인 거래량 정보만 가져와 보세요!"
   ]
  },
  {
   "cell_type": "code",
   "execution_count": 41,
   "id": "30e9b53c-d4c4-4fe1-905c-d8bab7e2e291",
   "metadata": {},
   "outputs": [
    {
     "data": {
      "text/plain": [
       "3262"
      ]
     },
     "execution_count": 41,
     "metadata": {},
     "output_type": "execute_result"
    }
   ],
   "source": [
    "import numpy as np\n",
    "\n",
    "bitcoin_array = np.array([[970, 1180, 1072, 1348, 2286, 2481,\n",
    "\t\t\t\t\t\t   2875, 4703, 4339, 6468, 10234, 14156],\n",
    "\t\t\t\t\t\t  [514, 428, 1087, 976, 3426, 4448,\n",
    "\t\t\t\t\t\t   3262, 6355, 5570, 5801, 14074, 41034]])\n",
    "\n",
    "bitcoin_array[1, 6]"
   ]
  },
  {
   "cell_type": "markdown",
   "id": "4f164c2e-6233-488b-97ae-b41e0e13156c",
   "metadata": {},
   "source": [
    "# 07. 불린 인덱싱 "
   ]
  },
  {
   "cell_type": "code",
   "execution_count": 43,
   "id": "538b3582-50c0-435a-bb66-e18aacbd2116",
   "metadata": {},
   "outputs": [],
   "source": [
    "import numpy as np "
   ]
  },
  {
   "cell_type": "code",
   "execution_count": 44,
   "id": "563b3d51-a84f-4a94-834e-26d63a6b6e54",
   "metadata": {},
   "outputs": [],
   "source": [
    "gdp_array = np.array([6610, 7637, 8127, 8885, 10385, 12565, 13403, 12398, 8282, 10672])"
   ]
  },
  {
   "cell_type": "code",
   "execution_count": 45,
   "id": "02c662ca-2f63-4b75-9314-56a47aa3991e",
   "metadata": {},
   "outputs": [
    {
     "data": {
      "text/plain": [
       "array([False, False, False, False,  True,  True,  True,  True, False,\n",
       "        True])"
      ]
     },
     "execution_count": 45,
     "metadata": {},
     "output_type": "execute_result"
    }
   ],
   "source": [
    "gdp_array > 10000"
   ]
  },
  {
   "cell_type": "code",
   "execution_count": 46,
   "id": "c94746b0-0239-41a6-984f-d65aa2f9a017",
   "metadata": {},
   "outputs": [
    {
     "data": {
      "text/plain": [
       "array([10385, 12565, 13403, 12398, 10672])"
      ]
     },
     "execution_count": 46,
     "metadata": {},
     "output_type": "execute_result"
    }
   ],
   "source": [
    "mask = gdp_array > 10000\n",
    "gdp_array[mask]"
   ]
  },
  {
   "cell_type": "code",
   "execution_count": 47,
   "id": "b39be4cd-eb9c-428f-bd4d-14234490840d",
   "metadata": {},
   "outputs": [
    {
     "data": {
      "text/plain": [
       "array([10385, 12565, 13403, 12398, 10672])"
      ]
     },
     "execution_count": 47,
     "metadata": {},
     "output_type": "execute_result"
    }
   ],
   "source": [
    "gdp_array[gdp_array > 10000]"
   ]
  },
  {
   "cell_type": "code",
   "execution_count": 48,
   "id": "377909a3-da74-465e-b70a-acb1bec0daef",
   "metadata": {},
   "outputs": [
    {
     "data": {
      "text/plain": [
       "array([False, False, False, False,  True,  True,  True,  True, False,\n",
       "        True])"
      ]
     },
     "execution_count": 48,
     "metadata": {},
     "output_type": "execute_result"
    }
   ],
   "source": [
    "gdp_array > 10000"
   ]
  },
  {
   "cell_type": "code",
   "execution_count": 49,
   "id": "57d327d0-a39f-4dc5-8721-d2bc9f52f293",
   "metadata": {},
   "outputs": [
    {
     "data": {
      "text/plain": [
       "array([ True,  True, False, False, False, False, False, False, False,\n",
       "       False])"
      ]
     },
     "execution_count": 49,
     "metadata": {},
     "output_type": "execute_result"
    }
   ],
   "source": [
    "gdp_array < 8000"
   ]
  },
  {
   "cell_type": "code",
   "execution_count": 50,
   "id": "40a16dc9-a18f-4844-a805-8424ea84a445",
   "metadata": {},
   "outputs": [
    {
     "data": {
      "text/plain": [
       "array([ 6610,  7637, 10385, 12565, 13403, 12398, 10672])"
      ]
     },
     "execution_count": 50,
     "metadata": {},
     "output_type": "execute_result"
    }
   ],
   "source": [
    "gdp_array[(gdp_array > 10000) | (gdp_array < 8000)]"
   ]
  },
  {
   "cell_type": "code",
   "execution_count": 51,
   "id": "7a61f95a-c41e-4e83-accf-3fc99836e594",
   "metadata": {},
   "outputs": [
    {
     "data": {
      "text/plain": [
       "array([False, False,  True,  True, False, False, False, False,  True,\n",
       "       False])"
      ]
     },
     "execution_count": 51,
     "metadata": {},
     "output_type": "execute_result"
    }
   ],
   "source": [
    "(gdp_array <= 10000) & (gdp_array >= 8000)"
   ]
  },
  {
   "cell_type": "code",
   "execution_count": 52,
   "id": "dd25e8da-b469-4b5e-9507-51e4ec321eab",
   "metadata": {},
   "outputs": [
    {
     "data": {
      "text/plain": [
       "array([8127, 8885, 8282])"
      ]
     },
     "execution_count": 52,
     "metadata": {},
     "output_type": "execute_result"
    }
   ],
   "source": [
    "gdp_array[(gdp_array <= 10000) & (gdp_array >= 8000)]"
   ]
  },
  {
   "cell_type": "markdown",
   "id": "228ab9fa-be25-4053-87e4-3946d24d26d5",
   "metadata": {},
   "source": [
    "# 08. 짝수만 추출하기 "
   ]
  },
  {
   "cell_type": "markdown",
   "id": "a774efc4-6e76-46c4-b830-9f42e0616028",
   "metadata": {},
   "source": [
    "### 실습 설명\n",
    "#### 1부터 100까지 숫자가 들어 있는 numbers_array에서 짝수에 해당하는 숫자들만 뽑아 보세요!"
   ]
  },
  {
   "cell_type": "code",
   "execution_count": 55,
   "id": "493e3464-3949-48af-9a7f-6389ff517d1a",
   "metadata": {},
   "outputs": [
    {
     "data": {
      "text/plain": [
       "array([  2,   4,   6,   8,  10,  12,  14,  16,  18,  20,  22,  24,  26,\n",
       "        28,  30,  32,  34,  36,  38,  40,  42,  44,  46,  48,  50,  52,\n",
       "        54,  56,  58,  60,  62,  64,  66,  68,  70,  72,  74,  76,  78,\n",
       "        80,  82,  84,  86,  88,  90,  92,  94,  96,  98, 100])"
      ]
     },
     "execution_count": 55,
     "metadata": {},
     "output_type": "execute_result"
    }
   ],
   "source": [
    "import numpy as np\n",
    "\n",
    "numbers_array = np.arange(1, 101)\n",
    "\n",
    "numbers_array % 2 == 0\n",
    "\n",
    "numbers_array[numbers_array % 2 == 0]"
   ]
  },
  {
   "cell_type": "markdown",
   "id": "12a8b3ef-6f23-4972-98d7-2b9ad57fcd5a",
   "metadata": {},
   "source": [
    "# 09. NumPy 기본 연산 "
   ]
  },
  {
   "cell_type": "code",
   "execution_count": 57,
   "id": "284cc9e2-640c-4c9e-8d98-eeb1a5d4ef60",
   "metadata": {},
   "outputs": [],
   "source": [
    "gdp_korea_array = np.array([12257, 11561, 13165, 14673, 16496, 19403])"
   ]
  },
  {
   "cell_type": "code",
   "execution_count": 58,
   "id": "676cfc62-2963-4d7b-a8ac-672876e8f065",
   "metadata": {},
   "outputs": [
    {
     "data": {
      "text/plain": [
       "14592.5"
      ]
     },
     "execution_count": 58,
     "metadata": {},
     "output_type": "execute_result"
    }
   ],
   "source": [
    "gdp_korea_array.mean()"
   ]
  },
  {
   "cell_type": "code",
   "execution_count": 59,
   "id": "3b17d547-6963-4647-98e0-bad5868e1bdc",
   "metadata": {},
   "outputs": [
    {
     "data": {
      "text/plain": [
       "87555"
      ]
     },
     "execution_count": 59,
     "metadata": {},
     "output_type": "execute_result"
    }
   ],
   "source": [
    "gdp_korea_array.sum()"
   ]
  },
  {
   "cell_type": "code",
   "execution_count": 60,
   "id": "9175c384-34b8-49f2-9b8b-ed797b1b07fc",
   "metadata": {},
   "outputs": [
    {
     "data": {
      "text/plain": [
       "11561"
      ]
     },
     "execution_count": 60,
     "metadata": {},
     "output_type": "execute_result"
    }
   ],
   "source": [
    "gdp_korea_array.min()"
   ]
  },
  {
   "cell_type": "code",
   "execution_count": 61,
   "id": "2f2b5ea9-658e-4f98-a004-6cf775b6c835",
   "metadata": {},
   "outputs": [
    {
     "data": {
      "text/plain": [
       "19403"
      ]
     },
     "execution_count": 61,
     "metadata": {},
     "output_type": "execute_result"
    }
   ],
   "source": [
    "gdp_korea_array.max()"
   ]
  },
  {
   "cell_type": "code",
   "execution_count": 62,
   "id": "042a6106-8253-4e1a-8d8c-5b72fe98fc48",
   "metadata": {},
   "outputs": [
    {
     "data": {
      "text/plain": [
       "array([14708400, 13873200, 15798000, 17607600, 19795200, 23283600])"
      ]
     },
     "execution_count": 62,
     "metadata": {},
     "output_type": "execute_result"
    }
   ],
   "source": [
    "gdp_korea_array * 1200"
   ]
  },
  {
   "cell_type": "code",
   "execution_count": 63,
   "id": "53b262e6-f5bc-46a4-ba89-a1953fdb3fed",
   "metadata": {},
   "outputs": [
    {
     "data": {
      "text/plain": [
       "array([12257, 11561, 13165, 14673, 16496, 19403])"
      ]
     },
     "execution_count": 63,
     "metadata": {},
     "output_type": "execute_result"
    }
   ],
   "source": [
    "gdp_korea_array"
   ]
  },
  {
   "cell_type": "code",
   "execution_count": 64,
   "id": "0142436f-df1c-4272-a683-3e97194c6a53",
   "metadata": {},
   "outputs": [
    {
     "data": {
      "text/plain": [
       "array([14708400, 13873200, 15798000, 17607600, 19795200, 23283600])"
      ]
     },
     "execution_count": 64,
     "metadata": {},
     "output_type": "execute_result"
    }
   ],
   "source": [
    "gdp_korea_array = gdp_korea_array * 1200\n",
    "gdp_korea_array"
   ]
  },
  {
   "cell_type": "code",
   "execution_count": 124,
   "id": "30240d25-4751-4546-9dfc-acdbdacefd14",
   "metadata": {},
   "outputs": [
    {
     "data": {
      "text/plain": [
       "array([12257., 11561., 13165., 14673., 16496., 19403.])"
      ]
     },
     "execution_count": 124,
     "metadata": {},
     "output_type": "execute_result"
    }
   ],
   "source": [
    "gdp_korea_array = gdp_korea_array / 1200\n",
    "gdp_korea_array"
   ]
  },
  {
   "cell_type": "code",
   "execution_count": 126,
   "id": "8699884e-a8fc-4041-8624-31af3982feb6",
   "metadata": {},
   "outputs": [],
   "source": [
    "gdp_us_array = np.array([36335, 37133, 38023, 39496, 41713, 44115]) "
   ]
  },
  {
   "cell_type": "code",
   "execution_count": 128,
   "id": "74b12cd1-1f44-4240-bae6-e05c8f350408",
   "metadata": {},
   "outputs": [
    {
     "data": {
      "text/plain": [
       "array([24078., 25572., 24858., 24823., 25217., 24712.])"
      ]
     },
     "execution_count": 128,
     "metadata": {},
     "output_type": "execute_result"
    }
   ],
   "source": [
    "gdp_us_array - gdp_korea_array "
   ]
  },
  {
   "cell_type": "code",
   "execution_count": 130,
   "id": "2be626d9-40ce-4189-82a9-0862c43ee043",
   "metadata": {},
   "outputs": [
    {
     "data": {
      "text/plain": [
       "array([2.96442849, 3.21191938, 2.88818838, 2.69174675, 2.52867362,\n",
       "       2.27361748])"
      ]
     },
     "execution_count": 130,
     "metadata": {},
     "output_type": "execute_result"
    }
   ],
   "source": [
    "gdp_us_array / gdp_korea_array "
   ]
  },
  {
   "cell_type": "markdown",
   "id": "f606dc61-8d0f-47fd-a564-8d34b3bdbff3",
   "metadata": {},
   "source": [
    "# 10. 쇼핑몰 매출액 계산하기 "
   ]
  },
  {
   "cell_type": "markdown",
   "id": "c4c48518-3748-4c10-b12d-5041e4d4c512",
   "metadata": {},
   "source": [
    "### 실습 설명 \n",
    "#### 소원이는 부업으로 인터넷 쇼핑몰 운영을 시작했습니다. 가격은 price_array, 판매 수량은 quantity_array에 저장되어 있는데요. 치마, 티셔츠, 원피스, 스웨터, 코트, 청바지, 신발 순서대로 정보가 들어 있다고 합니다. 각 상품별 매출액을 한번 계산해 볼까요? 실습 코드를 실행하면 아래와 같은 형태의 결과물이 출력되어야 합니다."
   ]
  },
  {
   "cell_type": "code",
   "execution_count": 136,
   "id": "87d5eeaa-09e0-4e2b-9a33-146e1e80df80",
   "metadata": {},
   "outputs": [
    {
     "data": {
      "text/plain": [
       "array([ 300000,  325000,  280000, 1200000,  570000,  665000,  450000])"
      ]
     },
     "execution_count": 136,
     "metadata": {},
     "output_type": "execute_result"
    }
   ],
   "source": [
    "import numpy as np\n",
    "\n",
    "price_array = np.array([30000, 25000, 40000, 60000, 95000, 35000, 50000])\n",
    "quantity_array = np.array([10, 13, 7, 20, 6, 19, 9])\n",
    "\n",
    "price_array * quantity_array "
   ]
  },
  {
   "cell_type": "code",
   "execution_count": null,
   "id": "7fd5a3db-0124-455a-8494-622285c80ebe",
   "metadata": {},
   "outputs": [],
   "source": []
  }
 ],
 "metadata": {
  "kernelspec": {
   "display_name": "Python [conda env:base] *",
   "language": "python",
   "name": "conda-base-py"
  },
  "language_info": {
   "codemirror_mode": {
    "name": "ipython",
    "version": 3
   },
   "file_extension": ".py",
   "mimetype": "text/x-python",
   "name": "python",
   "nbconvert_exporter": "python",
   "pygments_lexer": "ipython3",
   "version": "3.12.7"
  }
 },
 "nbformat": 4,
 "nbformat_minor": 5
}
